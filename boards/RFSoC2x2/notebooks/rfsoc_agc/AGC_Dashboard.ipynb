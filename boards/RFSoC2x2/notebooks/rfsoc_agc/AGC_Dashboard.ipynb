{
 "cells": [
  {
   "cell_type": "markdown",
   "metadata": {},
   "source": [
    "<img src=\"https://www.strath.ac.uk/media/1newwebsite/webteam/logos/xUoS_Logo_Horizontal.png.pagespeed.ic.M6gv_BmDx1.png\" width=\"350\" align=\"left\" style=\"left\">"
   ]
  },
  {
   "cell_type": "markdown",
   "metadata": {},
   "source": [
    "## Automatic Gain Control with PYNQ\n",
    "\n",
    "We present a digital Automatic Gain Control (AGC) circuit with interactive control of it's parameters. This is a purely digital loopback system, so no extra hardware is required. We'll generate various input signals, explore some interesting effects of the AGC algorithm, and practice tweaking our parameters for best performance.\n",
    "The design of this AGC example will be explored, featuring various hardware arithmetic approximations for power estimation, logarithms and exponentiation.\n",
    "\n",
    "## Aims\n",
    "* Interactively explore the behaviour of an AGC circuit\n",
    "* Learn to tune the AGC parameters for different scenarios\n",
    "* Explore our open-source hardware design, with a focus on arithmetic approximations\n",
    "\n",
    "## Table of Contents\n",
    "\n",
    "* [1. Introduction](#introduction)\n",
    "* [2. ...And we're off!](#go)\n",
    "* [3. Exploring some scenarios](#scenarios)\n",
    "* [4. A closer look at the hardware](#hw)\n",
    "    * [4.1 Power estimation](#power-est)\n",
    "    * [4.2 Logarithms and exponentials](#log-est)\n",
    "* [5. Conclusion](#conclusion)\n",
    "\n",
    "\n",
    "## References <a class=\"anchor\" id=\"references\"></a>\n",
    "\n",
    "[1] - [Tony Rouphael, \"RF and Digital Signal Processing for Software-Defined Radio\"](https://www.elsevier.com/books/rf-and-digital-signal-processing-for-software-defined-radio/rouphael/978-0-7506-8210-7)\n",
    "\n",
    "[2] - [EDN, \"Wireless 101: Automatic Gain Control (AGC)\", Accessed: 09/02/2021](https://www.edn.com/wireless-101-automatic-gain-control-agc/)\n",
    "\n",
    "[3] - [Grant Griffin, DSPGuru, \"DSP Trick: Magnitude Estimator\", Accessed: 09/02/2021](https://dspguru.com/dsp/tricks/magnitude-estimator/)\n",
    "\n",
    "[4] - [Yevgen Voronenko, SPIRAL Project, \"Multiplier Block Generator\", Accessed: 09/02/2021](http://spiral.ece.cmu.edu/mcm/gen.html)\n",
    "\n",
    "## Revision History\n",
    "* **v0.1** | *Craig Ramsay* | 09/02/2021 | First alpha demo\n",
    "\n",
    "----"
   ]
  },
  {
   "cell_type": "markdown",
   "metadata": {},
   "source": [
    "## 1. Introduction <a class=\"anchor\" id=\"introduction\"></a>\n",
    "\n",
    "Explain our loopback demo with a high-level block diagram. We'll control it via a nice Dash GUI which supports click-and-dragable anchors to control our signal's envelope.\n",
    "\n",
    "## 2. ...And we're off! <a class=\"anchor\" id=\"go\"></a>"
   ]
  },
  {
   "cell_type": "code",
   "execution_count": null,
   "metadata": {},
   "outputs": [],
   "source": [
    "import pynq_agc"
   ]
  },
  {
   "cell_type": "code",
   "execution_count": null,
   "metadata": {},
   "outputs": [],
   "source": [
    "model = pynq_agc.AgcDashModel(fs=int(1e6), N=6000)\n",
    "app = pynq_agc.AgcDashController(model)\n",
    "app.show(debug=False)"
   ]
  },
  {
   "cell_type": "markdown",
   "metadata": {},
   "source": [
    "## 3. Exploring some scenarios <a class=\"anchor\" id=\"scenarios\"></a>\n",
    "\n",
    "In this section we'll force the GUIs parameters to a series of different examples, showing things like the effects of window size with AM signals, FM's resilience to this, and tuning the response for QPSK packets of a given length.\n",
    "\n",
    "## 4. A closer look at the hardware <a class=\"anchor\" id=\"hw\"></a>\n",
    "\n",
    "More diagrams and some maths. I'll enjoy writing this.\n",
    "\n",
    "### 4.1. Power estimation <a class=\"anchor\" id=\"power-est\"></a>\n",
    "### 4.2. Logarithms and exponentials <a class=\"anchor\" id=\"log-est\"></a>\n",
    "\n",
    "## 5. Conclusion <a class=\"anchor\" id=\"conclusion\"></a>\n",
    "\n",
    "Oh what fun we've had."
   ]
  },
  {
   "cell_type": "markdown",
   "metadata": {},
   "source": [
    "[⬅️ Previous Notebook](previous_notebook.ipynb) | | [Next Notebook ➡️](next_notebook.ipynb)\n",
    "\n",
    "----\n",
    "----"
   ]
  }
 ],
 "metadata": {
  "kernelspec": {
   "display_name": "Python 3",
   "language": "python",
   "name": "python3"
  },
  "language_info": {
   "codemirror_mode": {
    "name": "ipython",
    "version": 3
   },
   "file_extension": ".py",
   "mimetype": "text/x-python",
   "name": "python",
   "nbconvert_exporter": "python",
   "pygments_lexer": "ipython3",
   "version": "3.8.5"
  }
 },
 "nbformat": 4,
 "nbformat_minor": 4
}
