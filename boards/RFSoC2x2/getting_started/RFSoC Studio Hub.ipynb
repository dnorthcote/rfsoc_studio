{
 "cells": [
  {
   "cell_type": "markdown",
   "metadata": {},
   "source": [
    "# Welcome to the RFSoC Platform Studio!\n",
    "----"
   ]
  },
  {
   "cell_type": "markdown",
   "metadata": {},
   "source": [
    "Lorem Ipsum is simply dummy text of the printing and typesetting industry. Lorem Ipsum has been the industry's standard dummy text ever since the 1500s, when an unknown printer took a galley of type and scrambled it to make a type specimen book. It has survived not only five centuries, but also the leap into electronic typesetting, remaining essentially unchanged. It was popularised in the 1960s with the release of Letraset sheets containing Lorem Ipsum passages, and more recently with desktop publishing software like Aldus PageMaker including versions of Lorem Ipsum."
   ]
  },
  {
   "cell_type": "markdown",
   "metadata": {},
   "source": [
    "## Demonstration Notebooks\n",
    "Contrary to popular belief, Lorem Ipsum is not simply random text. It has roots in a piece of classical Latin literature from 45 BC, making it over 2000 years old. Richard McClintock, a Latin professor at Hampden-Sydney College in Virginia, looked up one of the more obscure Latin words, consectetur, from a Lorem Ipsum passage, and going through the cites of the word in classical literature, discovered the undoubtable source. Lorem Ipsum comes from sections 1.10.32 and 1.10.33 of \"de Finibus Bonorum et Malorum\" (The Extremes of Good and Evil) by Cicero, written in 45 BC. This book is a treatise on the theory of ethics, very popular during the Renaissance. The first line of Lorem Ipsum, \"Lorem ipsum dolor sit amet..\", comes from a line in section 1.10.32.\n",
    "\n",
    "<table border=\"5\"\n",
    "       align=\"left\">\n",
    "    <tr>\n",
    "        <td>\n",
    "            <img src=\"rfsoc-studio/notebooks/board/rfsoc_sam/demonstration.gif\" alt=\"oscthumb\" style=\"width: 400px;height: 200px; border: 0.5px gray solid\"/>\n",
    "        </td>\n",
    "        <td>\n",
    "            <img src=\"rfsoc-studio/notebooks/board/rfsoc_qpsk/demonstration.gif\" alt=\"oscthumb\" style=\"width: 400px;height: 200px; border: 0.5px gray solid\"/>\n",
    "        </td>\n",
    "        <td>\n",
    "            <img src=\"rfsoc-studio/notebooks/board/rfsoc_ofdm/demonstration.gif\" alt=\"oscthumb\" style=\"width: 400px;height: 200px; border: 0.5px gray solid\"/>\n",
    "        </td>\n",
    "    </tr>\n",
    "    <tr>\n",
    "        <td>\n",
    "            <p style=\"font-size:20px\"><a href=\"rfsoc-studio/notebooks/board/rfsoc_sam/spectrum_analyser.ipynb\">Spectrum Analyser</a></p>\n",
    "        </td>\n",
    "        <td>\n",
    "            <p style=\"font-size:20px\"><a href=\"rfsoc-studio/notebooks/board/rfsoc_qpsk/qpsk_demonstrator.ipynb\">QPSK Demonstrator</a></p>\n",
    "        </td>\n",
    "        <td>\n",
    "            <p style=\"font-size:20px\"><a href=\"rfsoc-studio/notebooks/board/rfsoc_ofdm/ofdm_demonstrator.ipynb\">OFDM Demonstrator</a></p>\n",
    "        </td>\n",
    "    </tr>\n",
    "</table>"
   ]
  },
  {
   "cell_type": "markdown",
   "metadata": {},
   "source": [
    "## Learn DSP for Communications\n",
    "\n",
    "There are many variations of passages of Lorem Ipsum available, but the majority have suffered alteration in some form, by injected humour, or randomised words which don't look even slightly believable. If you are going to use a passage of Lorem Ipsum, you need to be sure there isn't anything embarrassing hidden in the middle of text. All the Lorem Ipsum generators on the Internet tend to repeat predefined chunks as necessary, making this the first true generator on the Internet. It uses a dictionary of over 200 Latin words, combined with a handful of model sentence structures, to generate Lorem Ipsum which looks reasonable. The generated Lorem Ipsum is therefore always free from repetition, injected humour, or non-characteristic words etc.\n",
    "\n",
    "<table border=\"1\"\n",
    "       align=\"left\">\n",
    "    <tr>\n",
    "        <td>\n",
    "            <img src=\"rfsoc-studio/notebooks/pystrath-sdr/digital_filters/demonstration.svg\" alt=\"dfthumb\" style=\"width: 400px;height: 200px; border: 0.5px gray solid\"/>\n",
    "        </td>\n",
    "        <td>\n",
    "            <img src=\"rfsoc-studio/notebooks/pystrath-sdr/baseband_modulation/demonstration.png\" alt=\"bmthumb\" style=\"width: 400px;height: 200px; border: 0.5px gray solid\"/>\n",
    "        </td>\n",
    "        <td>\n",
    "            <img src=\"rfsoc-studio/notebooks/pystrath-sdr/frequency_spectrum/demonstration.png\" alt=\"fsthumb\" style=\"width: 400px;height: 200px; border: 0.5px gray solid\"/>\n",
    "        </td>\n",
    "    </tr>\n",
    "    <tr>\n",
    "        <td>\n",
    "            <p style=\"font-size:20px\"><a href=\"rfsoc-studio/notebooks/pystrath-sdr/digital_filters/01_digital_filter_design.ipynb\">Digital Filtering</a></p>\n",
    "        </td>\n",
    "        <td>\n",
    "            <p style=\"font-size:20px\"><a href=\"rfsoc-studio/notebooks/pystrath-sdr/baseband_modulation/01_baseband_modulation.ipynb\">Baseband Modulation</a></p>\n",
    "        </td>\n",
    "        <td>\n",
    "            <p style=\"font-size:20px\"><a href=\"rfsoc-studio/notebooks/pystrath-sdr/frequency_spectrum/01_spectrum_analysis.ipynb\">The Frequency Spectrum</a></p>\n",
    "        </td>\n",
    "    </tr>\n",
    "    <tr>\n",
    "        <td>\n",
    "            <img src=\"rfsoc-studio/notebooks/pystrath-sdr/machine_learning/demonstration.png\" alt=\"mlthumb\" style=\"width: 400px;height: 200px; border: 0.5px gray solid\"/>\n",
    "        </td>\n",
    "        <td>\n",
    "            <img src=\"rfsoc-studio/notebooks/pystrath-sdr/modulation_demodulation/demonstration.png\" alt=\"mlthumb\" style=\"width: 400px;height: 200px; border: 0.5px gray solid\"/>\n",
    "        </td>\n",
    "        <td>\n",
    "            <img src=\"rfsoc-studio/notebooks/pystrath-sdr/ofdm_fundamentals/demonstration.png\" alt=\"mlthumb\" style=\"width: 400px;height: 200px; border: 0.5px gray solid\"/>\n",
    "        </td>\n",
    "    </tr>\n",
    "    <tr>\n",
    "        <td>\n",
    "            <p style=\"font-size:20px\"><a href=\"rfsoc-studio/notebooks/pystrath-sdr/machine_learning/01_modulation_classification.ipynb\">Machine Learning</a></p>\n",
    "        </td>\n",
    "        <td>\n",
    "            <p style=\"font-size:20px\"><a href=\"rfsoc-studio/notebooks/pystrath-sdr/modulation_demodulation/01_introd.ipynb\">Modulation & Demodulation</a></p>\n",
    "        </td>\n",
    "        <td>\n",
    "            <p style=\"font-size:20px\"><a href=\"rfsoc-studio/notebooks/pystrath-sdr/ofdm_fundamentals/01_ofdm_introduction.ipynb\">OFDM Fundamentals</a></p>\n",
    "        </td>\n",
    "    </tr>\n",
    "    <tr>\n",
    "        <td>\n",
    "            <img src=\"rfsoc-studio/notebooks/pystrath-sdr/sampling_and_quantisation/demonstration.png\" alt=\"mlthumb\" style=\"width: 400px;height: 200px; border: 0.5px gray solid\"/>\n",
    "        </td>\n",
    "    </tr>\n",
    "    <tr>\n",
    "        <td>\n",
    "            <p style=\"font-size:20px\"><a href=\"rfsoc-studio/notebooks/pystrath-sdr/sampling_and_quantisation/01_introduction.ipynb\">Sampling & Quantisation</a></p>\n",
    "        </td>\n",
    "    </tr>\n",
    "</table>"
   ]
  },
  {
   "cell_type": "markdown",
   "metadata": {},
   "source": [
    "## Getting Started with RFSoC\n",
    "\n",
    "It is a long established fact that a reader will be distracted by the readable content of a page when looking at its layout. The point of using Lorem Ipsum is that it has a more-or-less normal distribution of letters, as opposed to using 'Content here, content here', making it look like readable English. Many desktop publishing packages and web page editors now use Lorem Ipsum as their default model text, and a search for 'lorem ipsum' will uncover many web sites still in their infancy. Various versions have evolved over the years, sometimes by accident, sometimes on purpose (injected humour and the like).\n",
    "\n",
    "<table border=\"1\"\n",
    "       align=\"left\">\n",
    "    <tr>\n",
    "        <td>\n",
    "            <img src=\"rfsoc-studio/notebooks/common/rfsoc_introduction/demonstration.png\" alt=\"dfthumb\" style=\"width: 400px; border: 0.5px gray solid\"/>\n",
    "        </td>\n",
    "        <td>\n",
    "            <img src=\"rfsoc-studio/notebooks/common/frequency_bands/demonstration.png\" alt=\"bmthumb\" style=\"width: 400px;height: 200px; border: 0.5px gray solid\"/>\n",
    "        </td>\n",
    "    </tr>\n",
    "    <tr>\n",
    "        <td>\n",
    "            <p style=\"font-size:20px\"><a href=\"rfsoc-studio/notebooks/common/rfsoc_introduction/01_introduction.ipynb\">RFSoC Introduction</a></p>\n",
    "        </td>\n",
    "        <td>\n",
    "            <p style=\"font-size:20px\"><a href=\"rfsoc-studio/notebooks/common/frequency_bands/01_introduction.ipynb\">Frequency Bands</a></p>\n",
    "        </td>\n",
    "    </tr>\n",
    "</table>"
   ]
  },
  {
   "cell_type": "code",
   "execution_count": null,
   "metadata": {},
   "outputs": [],
   "source": []
  }
 ],
 "metadata": {
  "kernelspec": {
   "display_name": "Python 3",
   "language": "python",
   "name": "python3"
  },
  "language_info": {
   "codemirror_mode": {
    "name": "ipython",
    "version": 3
   },
   "file_extension": ".py",
   "mimetype": "text/x-python",
   "name": "python",
   "nbconvert_exporter": "python",
   "pygments_lexer": "ipython3",
   "version": "3.6.5"
  }
 },
 "nbformat": 4,
 "nbformat_minor": 4
}
