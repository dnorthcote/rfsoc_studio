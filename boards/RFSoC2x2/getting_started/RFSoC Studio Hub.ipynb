{
 "cells": [
  {
   "cell_type": "markdown",
   "metadata": {},
   "source": [
    "# Welcome to the RFSoC Platform Studio!"
   ]
  },
  {
   "cell_type": "markdown",
   "metadata": {},
   "source": [
    "Hello everyone!"
   ]
  },
  {
   "cell_type": "markdown",
   "metadata": {},
   "source": [
    "## Demonstration Notebooks\n",
    "\n",
    "<table border=\"5\"\n",
    "       align=\"left\">\n",
    "    <tr>\n",
    "        <td>\n",
    "            <img src=\"rfsoc-studio/notebooks/board/rfsoc_sam/demonstration.gif\" alt=\"oscthumb\" style=\"width: 400px;height: 200px\" border=\"2\"/>\n",
    "        </td>\n",
    "        <td>\n",
    "            <img src=\"rfsoc-studio/notebooks/board/rfsoc_qpsk/demonstration.gif\" alt=\"oscthumb\" style=\"width: 400px;height: 200px\" border=\"2\"/>\n",
    "        </td>\n",
    "        <td>\n",
    "            <img src=\"rfsoc-studio/notebooks/board/rfsoc_ofdm/demonstration.gif\" alt=\"oscthumb\" style=\"width: 400px;height: 200px\" border=\"2\"/>\n",
    "        </td>\n",
    "    </tr>\n",
    "    <tr>\n",
    "        <td>\n",
    "            <p style=\"font-size:20px\"><a href=\"rfsoc-studio/notebooks/board/rfsoc_sam/spectrum_analyser.ipynb\">Spectrum Analyser</a></p>\n",
    "        </td>\n",
    "        <td>\n",
    "            <p style=\"font-size:20px\"><a href=\"rfsoc-studio/notebooks/board/rfsoc_qpsk/qpsk_demonstrator.ipynb\">QPSK Demonstrator</a></p>\n",
    "        </td>\n",
    "        <td>\n",
    "            <p style=\"font-size:20px\"><a href=\"rfsoc-studio/notebooks/board/rfsoc_ofdm/ofdm_demonstrator.ipynb\">OFDM Demonstrator</a></p>\n",
    "        </td>\n",
    "    </tr>\n",
    "</table>"
   ]
  },
  {
   "cell_type": "markdown",
   "metadata": {},
   "source": [
    "## Getting Started\n",
    "\n",
    "<table border=\"1\"\n",
    "       align=\"left\">\n",
    "    <tr>\n",
    "        <td>\n",
    "            <img src=\"assets/01_overview/qpsk_visualiser_animated_thumbnail.gif\" alt=\"qpskthumb\" style=\"width: 400px;\"/>\n",
    "        </td>\n",
    "        <td>\n",
    "            <img src=\"assets/01_overview/oscilloscope_application_thumbnail.png\" alt=\"oscthumb\" style=\"width: 400px;\"/>\n",
    "        </td>\n",
    "        <td>\n",
    "            <img src=\"assets/01_overview/oscilloscope_application_thumbnail.png\" alt=\"oscthumb\" style=\"width: 400px;\"/>\n",
    "        </td>\n",
    "        <td>\n",
    "            <img src=\"assets/01_overview/oscilloscope_application_thumbnail.png\" alt=\"oscthumb\" style=\"width: 400px;\"/>\n",
    "        </td>\n",
    "    </tr>\n",
    "    <tr>\n",
    "        <td>\n",
    "            <p style=\"font-size:20px\"><a href=\"demonstration_qpsk_visualiser.ipynb\">An Introduction to RFSoC</a></p>\n",
    "        </td>\n",
    "        <td>\n",
    "            <p style=\"font-size:20px\"><a href=\"application_oscilloscope.ipynb\">A Guided Tour of the RFSoC</a></p>\n",
    "        </td>\n",
    "        <td>\n",
    "            <p style=\"font-size:20px\"><a href=\"application_oscilloscope.ipynb\">The Strathclyde RFSoC Overlay</a></p>\n",
    "        </td>\n",
    "        <td>\n",
    "            <p style=\"font-size:20px\"><a href=\"application_oscilloscope.ipynb\">Frequency Planning with RFSoC</a></p>\n",
    "        </td>\n",
    "    </tr>\n",
    "</table>"
   ]
  },
  {
   "cell_type": "markdown",
   "metadata": {},
   "source": [
    "## Learn Digital Signal Processing\n",
    "\n",
    "<table border=\"1\"\n",
    "       align=\"left\">\n",
    "    <tr>\n",
    "        <td>\n",
    "            <img src=\"assets/01_overview/qpsk_visualiser_animated_thumbnail.gif\" alt=\"qpskthumb\" style=\"width: 400px;\"/>\n",
    "        </td>\n",
    "        <td>\n",
    "            <img src=\"assets/01_overview/oscilloscope_application_thumbnail.png\" alt=\"oscthumb\" style=\"width: 400px;\"/>\n",
    "        </td>\n",
    "        <td>\n",
    "            <img src=\"assets/01_overview/oscilloscope_application_thumbnail.png\" alt=\"oscthumb\" style=\"width: 400px;\"/>\n",
    "        </td>\n",
    "        <td>\n",
    "            <img src=\"assets/01_overview/oscilloscope_application_thumbnail.png\" alt=\"oscthumb\" style=\"width: 400px;\"/>\n",
    "        </td>\n",
    "    </tr>\n",
    "    <tr>\n",
    "        <td>\n",
    "            <p style=\"font-size:20px\"><a href=\"demonstration_qpsk_visualiser.ipynb\">Sampling and Quantisation</a></p>\n",
    "        </td>\n",
    "        <td>\n",
    "            <p style=\"font-size:20px\"><a href=\"application_oscilloscope.ipynb\">The Frequency Domain\"</a></p>\n",
    "        </td>\n",
    "        <td>\n",
    "            <p style=\"font-size:20px\"><a href=\"application_oscilloscope.ipynb\">Digital Filtering and Design</a></p>\n",
    "        </td>\n",
    "        <td>\n",
    "            <p style=\"font-size:20px\"><a href=\"application_oscilloscope.ipynb\">Baseband Modulation</a></p>\n",
    "        </td>\n",
    "    </tr>\n",
    "    <tr>\n",
    "        <td>\n",
    "            <img src=\"assets/01_overview/oscilloscope_application_thumbnail.png\" alt=\"qpskthumb\" style=\"width: 400px;\"/>\n",
    "        </td>\n",
    "        <td>\n",
    "            <img src=\"assets/01_overview/oscilloscope_application_thumbnail.png\" alt=\"oscthumb\" style=\"width: 400px;\"/>\n",
    "        </td>\n",
    "    </tr>\n",
    "    <tr>\n",
    "        <td>\n",
    "            <p style=\"font-size:20px\"><a href=\"demonstration_qpsk_visualiser.ipynb\">Pulse Shaping</a></p>\n",
    "        </td>\n",
    "        <td>\n",
    "            <p style=\"font-size:20px\"><a href=\"application_oscilloscope.ipynb\">OFDM Fundamentals</a></p>\n",
    "        </td>\n",
    "    </tr>\n",
    "</table>"
   ]
  }
 ],
 "metadata": {
  "kernelspec": {
   "display_name": "Python 3",
   "language": "python",
   "name": "python3"
  },
  "language_info": {
   "codemirror_mode": {
    "name": "ipython",
    "version": 3
   },
   "file_extension": ".py",
   "mimetype": "text/x-python",
   "name": "python",
   "nbconvert_exporter": "python",
   "pygments_lexer": "ipython3",
   "version": "3.6.5"
  }
 },
 "nbformat": 4,
 "nbformat_minor": 4
}
