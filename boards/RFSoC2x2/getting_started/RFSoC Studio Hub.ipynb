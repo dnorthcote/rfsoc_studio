{
 "cells": [
  {
   "cell_type": "markdown",
   "metadata": {},
   "source": [
    "# Welcome to the RFSoC Platform Studio!"
   ]
  },
  {
   "cell_type": "markdown",
   "metadata": {},
   "source": [
    "Hello everyone!"
   ]
  },
  {
   "cell_type": "markdown",
   "metadata": {},
   "source": [
    "## Demonstration Notebooks\n",
    "\n",
    "<table border=\"5\"\n",
    "       align=\"left\">\n",
    "    <tr>\n",
    "        <td>\n",
    "            <img src=\"rfsoc-studio/notebooks/board/rfsoc_sam/demonstration.gif\" alt=\"oscthumb\" style=\"width: 400px;height: 200px; border: 0.5px gray solid\"/>\n",
    "        </td>\n",
    "        <td>\n",
    "            <img src=\"rfsoc-studio/notebooks/board/rfsoc_qpsk/demonstration.gif\" alt=\"oscthumb\" style=\"width: 400px;height: 200px; border: 0.5px gray solid\"/>\n",
    "        </td>\n",
    "        <td>\n",
    "            <img src=\"rfsoc-studio/notebooks/board/rfsoc_ofdm/demonstration.gif\" alt=\"oscthumb\" style=\"width: 400px;height: 200px; border: 0.5px gray solid\"/>\n",
    "        </td>\n",
    "    </tr>\n",
    "    <tr>\n",
    "        <td>\n",
    "            <p style=\"font-size:20px\"><a href=\"rfsoc-studio/notebooks/board/rfsoc_sam/spectrum_analyser.ipynb\">Spectrum Analyser</a></p>\n",
    "        </td>\n",
    "        <td>\n",
    "            <p style=\"font-size:20px\"><a href=\"rfsoc-studio/notebooks/board/rfsoc_qpsk/qpsk_demonstrator.ipynb\">QPSK Demonstrator</a></p>\n",
    "        </td>\n",
    "        <td>\n",
    "            <p style=\"font-size:20px\"><a href=\"rfsoc-studio/notebooks/board/rfsoc_ofdm/ofdm_demonstrator.ipynb\">OFDM Demonstrator</a></p>\n",
    "        </td>\n",
    "    </tr>\n",
    "</table>"
   ]
  },
  {
   "cell_type": "markdown",
   "metadata": {},
   "source": [
    "## Learn DSP for Communications\n",
    "\n",
    "<table border=\"1\"\n",
    "       align=\"left\">\n",
    "    <tr>\n",
    "        <td>\n",
    "            <img src=\"rfsoc-studio/notebooks/pystrath-sdr/digital_filters/demonstration.svg\" alt=\"dfthumb\" style=\"width: 400px;height: 200px\"/>\n",
    "        </td>\n",
    "        <td>\n",
    "            <img src=\"rfsoc-studio/notebooks/pystrath-sdr/baseband_modulation/demonstration.png\" alt=\"bmthumb\" style=\"width: 400px;height: 200px\"/>\n",
    "        </td>\n",
    "        <td>\n",
    "            <img src=\"rfsoc-studio/notebooks/pystrath-sdr/frequency_spectrum/demonstration.png\" alt=\"fsthumb\" style=\"width: 400px;height: 200px\"/>\n",
    "        </td>\n",
    "    </tr>\n",
    "    <tr>\n",
    "        <td>\n",
    "            <p style=\"font-size:20px\"><a href=\"rfsoc-studio/notebooks/pystrath-sdr/digital_filters/01_digital_filter_design.ipynb\">Digital Filtering</a></p>\n",
    "        </td>\n",
    "        <td>\n",
    "            <p style=\"font-size:20px\"><a href=\"rfsoc-studio/notebooks/pystrath-sdr/baseband_modulation/01_baseband_modulation.ipynb\">Baseband Modulation</a></p>\n",
    "        </td>\n",
    "        <td>\n",
    "            <p style=\"font-size:20px\"><a href=\"rfsoc-studio/notebooks/pystrath-sdr/frequency_spectrum/01_spectrum_analysis.ipynb\">The Frequency Spectrum</a></p>\n",
    "        </td>\n",
    "    </tr>\n",
    "    <tr>\n",
    "        <td>\n",
    "            <img src=\"rfsoc-studio/notebooks/pystrath-sdr/machine_learning/demonstration.png\" alt=\"mlthumb\" style=\"width: 400px;height: 200px\"/>\n",
    "        </td>\n",
    "    </tr>\n",
    "    <tr>\n",
    "        <td>\n",
    "            <p style=\"font-size:20px\"><a href=\"rfsoc-studio/notebooks/pystrath-sdr/machine_learning/01_modulation_classification.ipynb\">Machine Learning</a></p>\n",
    "        </td>\n",
    "    </tr>\n",
    "</table>"
   ]
  }
 ],
 "metadata": {
  "kernelspec": {
   "display_name": "Python 3",
   "language": "python",
   "name": "python3"
  },
  "language_info": {
   "codemirror_mode": {
    "name": "ipython",
    "version": 3
   },
   "file_extension": ".py",
   "mimetype": "text/x-python",
   "name": "python",
   "nbconvert_exporter": "python",
   "pygments_lexer": "ipython3",
   "version": "3.6.5"
  }
 },
 "nbformat": 4,
 "nbformat_minor": 4
}
