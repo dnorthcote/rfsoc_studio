{
 "cells": [
  {
   "cell_type": "markdown",
   "metadata": {},
   "source": [
    "<img src=\"https://www.strath.ac.uk/media/1newwebsite/webteam/logos/xUoS_Logo_Horizontal.png.pagespeed.ic.M6gv_BmDx1.png\" width=\"350\" align=\"left\" style=\"left\">"
   ]
  },
  {
   "cell_type": "markdown",
   "metadata": {},
   "source": [
    "# RFSoC Introduction\n",
    "\n",
    "In this series of notebooks we will introduce the RFSoC hardware and show how the RFSoC has a number of advantages as a Software Defined Radio (SDR) compared to a traditional two board solution."
   ]
  },
  {
   "cell_type": "markdown",
   "metadata": {},
   "source": [
    "## Table of Contents\n",
    "\n",
    "* [1. Introduction to the RF band](01_introduction.ipynb)\n",
    "* [2. Transmission Safety](02_rfsoc_overview.ipynb)\n",
    "* [3. RFSoC for SDR](03_rfsoc_for_sdr.ipynb)\n",
    "* [4. Conclusion](03_rfsoc_for_sdr.ipynb)"
   ]
  },
  {
   "cell_type": "markdown",
   "metadata": {},
   "source": [
    "[⬅️ Return Home](strath-sdr/RFSoC Studio Hub.ipynb) | | [Next Notebook ➡️](02_rfsoc_overview.ipynb)\n",
    "\n",
    "----\n",
    "----"
   ]
  }
 ],
 "metadata": {
  "kernelspec": {
   "display_name": "Python 3",
   "language": "python",
   "name": "python3"
  },
  "language_info": {
   "codemirror_mode": {
    "name": "ipython",
    "version": 3
   },
   "file_extension": ".py",
   "mimetype": "text/x-python",
   "name": "python",
   "nbconvert_exporter": "python",
   "pygments_lexer": "ipython3",
   "version": "3.6.5"
  }
 },
 "nbformat": 4,
 "nbformat_minor": 4
}
