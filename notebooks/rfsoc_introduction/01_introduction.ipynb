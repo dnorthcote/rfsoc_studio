{
 "cells": [
  {
   "cell_type": "markdown",
   "metadata": {},
   "source": [
    "<img src=\"images/strathclyde_banner.png\" width=\"50%\" align=\"left\" style=\"left\">"
   ]
  },
  {
   "cell_type": "markdown",
   "metadata": {},
   "source": [
    "# RFSoC Introduction\n",
    "\n",
    "The [Xilinx RFSoC](https://www.xilinx.com/products/silicon-devices/soc/rfsoc.html) (Radio Frequency System on Chip) is a [Ultrascale+ MPSoC](https://www.xilinx.com/products/silicon-devices/soc/zynq-ultrascale-mpsoc.html) (Multiprocessor System on Chip) with additional radio capabilities provided by multi-giga-sample RF data converters and soft-decision forward error correction (SD-FEC) cores. This makes the RFSoC a leading single chip, adaptable radio. \n",
    "\n",
    "The RFSoC will be explored over two notebooks:\n",
    "\n",
    "- A **hardware overview** of the RFSoC\n",
    "- An introduction to **Software Defined Radio (SDR)** and the advantages of using an RFSoC"
   ]
  },
  {
   "cell_type": "markdown",
   "metadata": {},
   "source": [
    "<a class=\"anchor\" id=\"fig-1\"></a>\n",
    "<figure>\n",
    "<img src='https://www.xilinx.com/content/dam/xilinx/imgs/kits/whats-inside/zcu111-board.jpg' height='50%' width='50%'/>\n",
    "    <figcaption><b>Figure 1: Xilinx Zynq UltraScale+ RFSoC ZCU111 [1]</b></figcaption>\n",
    "</figure>"
   ]
  },
  {
   "cell_type": "markdown",
   "metadata": {},
   "source": [
    "## Table of Contents\n",
    "\n",
    "* [1. Introduction](01_introduction.ipynb)\n",
    "* [2. RFSoC Hardware Overview](02_rfsoc_overview.ipynb)\n",
    "* [3. RFSoC for SDR](03_rfsoc_for_sdr.ipynb)\n",
    "* [4. Conclusion](03_rfsoc_for_sdr.ipynb)"
   ]
  },
  {
   "cell_type": "markdown",
   "metadata": {},
   "source": [
    "## References\n",
    "[1] - [Xilinx, \"Zynq Ultrascale+ RFSoC ZCU111\", Accessed: 09/02/2021](https://www.xilinx.com/content/dam/xilinx/imgs/kits/whats-inside/zcu111-board.jpg)"
   ]
  },
  {
   "cell_type": "markdown",
   "metadata": {},
   "source": [
    "[⬅️ Return Home](strath-sdr/RFSoC Studio Hub.ipynb) | | [Next Notebook ➡️](02_rfsoc_overview.ipynb)\n",
    "\n",
    "----\n",
    "----"
   ]
  }
 ],
 "metadata": {
  "kernelspec": {
   "display_name": "Python 3",
   "language": "python",
   "name": "python3"
  },
  "language_info": {
   "codemirror_mode": {
    "name": "ipython",
    "version": 3
   },
   "file_extension": ".py",
   "mimetype": "text/x-python",
   "name": "python",
   "nbconvert_exporter": "python",
   "pygments_lexer": "ipython3",
   "version": "3.6.5"
  }
 },
 "nbformat": 4,
 "nbformat_minor": 4
}
