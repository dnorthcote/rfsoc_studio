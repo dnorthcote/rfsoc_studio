{
 "cells": [
  {
   "cell_type": "markdown",
   "metadata": {},
   "source": [
    "<img src=\"images/strathclyde_banner.png\" width=\"50%\" align=\"left\" style=\"left\">"
   ]
  },
  {
   "cell_type": "markdown",
   "metadata": {},
   "source": [
    "# 1. RFSoC Device Overview <a class=\"anchor\" id=\"rfsoc_overview\"></a>\n",
    "\n",
    "This notebook will be focused around the  architecture of the RFSoC hardware.  "
   ]
  },
  {
   "cell_type": "markdown",
   "metadata": {},
   "source": [
    "## Table of Contents\n",
    "\n",
    "* [1. RFSoC Introduction](01_introduction.ipynb)\n",
    "    * [1.1 High Level Overview](#high_level_overview)\n",
    "    * [1.2 Notable Features](#notable_features)\n",
    "        * [1.2.1 Single Chip Integration](#single_chip)\n",
    "        * [1.2.2 High Sample Rate](#sample_rate)\n",
    "        * [1.2.3 Multiple Channels](#multi_channel)\n",
    "    * [1.3 PS Architecture](#ps_arch)\n",
    "    * [1.4 PL Architecture](#pl_arch)\n",
    "    * [1.5 Data Converters](#data_converters)\n",
    "    * [1.6 RF-ADC Hierarchy](#rfadc_hier)\n",
    "        * [1.6.1 RF-ADC Tiles](#rfadc_tiles)\n",
    "        * [1.6.2 Dual RF-ADC Tiles](#dual_rfadc_tiles)\n",
    "        * [1.6.3 Quad RF-ADC Tiles](#quad_rfadc_tiles)\n",
    "        * [1.6.4 DDC: Digital I/Q Mixer](#ddc)\n",
    "        * [1.6.5 I/Q Mixer Modes](#IQ_mixer)\n",
    "        * [1.6.6 DDC: Programmable Decimator](#prog_decimator)\n",
    "        * [1.6.7 Active Gain Control](#agc)\n",
    "    * [1.7 RF-DAC Hierarchy](#rfdac_hier)\n",
    "        * [1.7.1 RF-DAC Programmable Interpolator](#rfdac_interp)\n",
    "    * [1.8 SD-FEC Blocks](#sd_fec)  \n",
    "    * [1.9 Conclusion](#conclusion)\n",
    " "
   ]
  },
  {
   "cell_type": "markdown",
   "metadata": {},
   "source": [
    "## 1.1 High Level Overview <a class=\"anchor\" id=\"high_level_overview\"></a>\n",
    "\n",
    "The RFSoC is a Zynq System on Chip (SoC) targeted specifically at RF applications. It features a Processing System (PS), Programmable Logic (PL) and specialist RF resources. A high level overview of the RFSoC can be seen in [Figure 1](#fig-1)."
   ]
  },
  {
   "cell_type": "markdown",
   "metadata": {},
   "source": [
    "<a class=\"anchor\" id=\"fig-1\"></a>\n",
    "<figure>\n",
    "<img src='./images/RFSoC_overview.png' height='30%' width='30%'/>\n",
    "    <figcaption><b>Figure 1: High Level Overveiw of the RFSoC hardware</b></figcaption>\n",
    "</figure>"
   ]
  },
  {
   "cell_type": "markdown",
   "metadata": {},
   "source": [
    "The specialist RF resources included in the RFSoC are:\n",
    "\n",
    "- **Transmit Blocks**: 8 or 16 very high rate RF Digital to Analogue Converters (RF-DACs). These blocks also include Digital Up Converters (DUCs) for increasing the sampling rate and performing modulation. \n",
    "\n",
    "\n",
    "- **Receive blocks**: 8 or 16 very high rate RF Analogue-to-Digital (RF-ADCs). These blocks feature Digital Down Converters (DDCs) for demodulating the received signal and then reducing the sampling rate.\n",
    "\n",
    "\n",
    "- **Soft Decision Forward Error Correction (SD-FEC) blocks**: 8 blocks for FEC encoding and/or decoding. These blocks support FEC coding schemes that are commonly used in 4G and 5G mobile standards.\n",
    "\n",
    "There are also hardened resources for high speed wired communications, in the form of GTY Transceiver blocks. These blocks are commonly required for backhaul in wireless networks, namely CPRI (Common Public Radio Interface) and GigE (Gigabit Ethernet).\n",
    "\n",
    "A general overview of the RFSoC device family can be seen from the Xilinx product page:\n",
    "\n",
    "https://www.xilinx.com/products/silicon-devices/soc/rfsoc.html#ProductTable"
   ]
  },
  {
   "cell_type": "markdown",
   "metadata": {},
   "source": [
    "## 1.2 Notable Features <a class=\"anchor\" id=\"notable_features\"></a>\n",
    "\n",
    "The RFSoC device has a number of notable features which separate it from a traditional radio transceiver.\n",
    "\n",
    "**1.2.1 Single Chip Integration** <a class=\"anchor\" id=\"single_chip\"></a>\n",
    "\n",
    "The RFSoC integrates DACs and ADCs into the same chip as the processing resources needed to implement a radio transceiver.  \n",
    "\n",
    "Other solutions require at least 2 chips e.g. a Zynq/Zynq MPSoC for signal processing paired with a front-end radio transceiver for modulating and demodulating the signal to and from its target RF Frequency. This system can be seen in [Figure 2](#fig-2)."
   ]
  },
  {
   "cell_type": "markdown",
   "metadata": {},
   "source": [
    "<a class=\"anchor\" id=\"fig-2\"></a>\n",
    "<figure>\n",
    "<img src='./images/two_chip_solution.png' height='30%' width='30%'/>\n",
    "    <figcaption><b>Figure 2: A traditional two chip solution utalising a Zynq MPSoC and a front-end radio transceiver</b></figcaption>\n",
    "</figure>"
   ]
  },
  {
   "cell_type": "markdown",
   "metadata": {},
   "source": [
    "As a result, the RF interface ports of the RFSoC development board can be connected directly to analogue components to build a complete radio system. "
   ]
  },
  {
   "cell_type": "markdown",
   "metadata": {},
   "source": [
    "**1.2.2 High Sample Rate** <a class=\"anchor\" id=\"sample_rate\"></a>\n",
    "\n",
    "The RF-ADCs and RF-DACs are both capable of sampling at multiple GHz, providing a very wide RF bandwidth. The RFSoC can directly digitise an RF band from 0 to 2 GHz. "
   ]
  },
  {
   "cell_type": "markdown",
   "metadata": {},
   "source": [
    "**1.2.3 Multiple Channels** <a class=\"anchor\" id=\"multi_channel\"></a>\n",
    "\n",
    "Each RFSoC device has multiple channels (8 or 16) of transmit and receive functionality. These have a number of uses, including Multiple Input Multiple Output (MIMO) systems and Beamforming/Beamsteering introducing spatial diversity to improve the throughput achievable over a link using multiple transmitters and multiple receivers involved, each with a different position in space.\n",
    "\n",
    "Aside from these multi-antenna systems, the 8 or 16 channels of the RFSoC can also be used to support multiple different transmit and receive paths of the same or different radio standards on the same chip. This compares favourably to a conventional solution where several chips would be required. "
   ]
  },
  {
   "cell_type": "markdown",
   "metadata": {},
   "source": [
    "## 1.3 PS Architecture <a class=\"anchor\" id=\"ps_arch\"></a>\n",
    "\n",
    "The RFSoC's Processing System (PS) includes several different types of processing resources, as seen in [Figure 3](#fig-3). These can be used to implement the software-based aspects of a transmission/receiver system. These resources include:\n",
    "\n",
    "- **External Interfaces**: local IoT devices, SDR backhaul, networked system control.\n",
    "\n",
    "\n",
    "- **Platform Management and security functions**: system booting, power management, physical security, SDR comms security.\n",
    "\n",
    "\n",
    "- **Dual-core Arm Cortex-R5 real-time processor**: low level, deterministic SDR system control and orchestration.\n",
    "\n",
    "\n",
    "- **PS local memories, external memory control**: Software programs, SDR instructions and data\n",
    "\n",
    "\n",
    "- **Quad-core Arm Cortex-A53 applications processor**: running operating system, SDR software applications"
   ]
  },
  {
   "cell_type": "markdown",
   "metadata": {},
   "source": [
    "<a class=\"anchor\" id=\"fig-3\"></a>\n",
    "<figure>\n",
    "<img src='./images/PS_Diagram.png' height='25%' width='25%'/>\n",
    "    <figcaption><b>Figure 3: High level overview of the RFSoC PS</b></figcaption>\n",
    "</figure>"
   ]
  },
  {
   "cell_type": "markdown",
   "metadata": {},
   "source": [
    "The four Arm Cortex-A53 processors are capable of running a fully featured Operating System and software applications. In the examples in this course the PYNQ software framework is deployed on the applications processor. More details on PYNQ can be found here: http://www.pynq.io/."
   ]
  },
  {
   "cell_type": "markdown",
   "metadata": {},
   "source": [
    "## 1.4 PL Architecture <a class=\"anchor\" id=\"pl_arch\"></a> \n",
    "\n",
    "The Programmable Logic of the RFSoC is equivalent to that of an FPGA. Most devices in the RFSoC family provide a standard set of resources, including:\n",
    "\n",
    "- High speed, wired interfaces (GTY transceivers, PCIe, 150G Interlaken, 100G Ethernet)\n",
    "\n",
    "\n",
    "- Configurable Logic Blocks (930K logic cells)\n",
    "\n",
    "\n",
    "- DSP Slices (4272)\n",
    "\n",
    "\n",
    "- Block RAM (38 Mb)\n",
    "\n",
    "\n",
    "- Ultra RAM (22.5 Mb)\n",
    "\n",
    "\n",
    "AXI PS-to-PL interconnections enable control and data to pass quickly between the software and hardware systems.\n",
    "\n",
    "The PL is where the hardware design will be created. The parallel, programmable nature of the PL is ideal for implementing Digital Signal Processing (DSP) for the physical layer of transmitter and receivers. Hardware subsystems can be designed for flexible operation, programmed from software."
   ]
  },
  {
   "cell_type": "markdown",
   "metadata": {},
   "source": [
    "## 1.5 Data Converters <a class=\"anchor\" id=\"data_converter\"></a>\n",
    "\n",
    "There are two types of RF Data Converters on the RFSoC:\n",
    "\n",
    "**Transmit side**: An RF-DAC and Digital Up-Converter (DUC). The Interpolators, NCO and sampling rate are programmable. The RF-DAC can be seen in [Figure 4](#fig-4)."
   ]
  },
  {
   "cell_type": "markdown",
   "metadata": {},
   "source": [
    "<a class=\"anchor\" id=\"fig-4\"></a>\n",
    "<figure>\n",
    "<img src='./images/DAC_block.png' height='50%' width='50%'/>\n",
    "    <figcaption><b>Figure 4: Overview of RF-DAC</b></figcaption>\n",
    "</figure>"
   ]
  },
  {
   "cell_type": "markdown",
   "metadata": {},
   "source": [
    "**Receive side**: An RF-ADC and Digital Down-Converter (DDC), likewise programmable. The RF-ADC can be seen in [Figure 5](#fig-5)."
   ]
  },
  {
   "cell_type": "markdown",
   "metadata": {},
   "source": [
    "<a class=\"anchor\" id=\"fig-5\"></a>\n",
    "<figure>\n",
    "<img src='./images/ADC_block.png' height='50%' width='50%'/>\n",
    "    <figcaption><b>Figure 5: Overview of RF-ADC</b></figcaption>\n",
    "</figure>"
   ]
  },
  {
   "cell_type": "markdown",
   "metadata": {},
   "source": [
    "A notable benefit to the RFSoC is the highly programmable nature of the RF Data Converters:\n",
    "\n",
    "- The sampling rates for the RF-DACs and RF-ADCs are programmable, with maximum and minimum values depending on the RFSoC Generation. For Gen 1, the RF-DACs can operate at sample rates of up to 6.554 Gsps, and the RF-ADCs can operate at up to 4.096 Gsps.\n",
    "\n",
    "\n",
    "- The NCO frequency is programmable. When the standard operating mode is used, it represents the RF frequency that the baseband signal is modulated to, and demodulated from.\n",
    "\n",
    "\n",
    "- The Interpolators and decimators can be programmed to undertake rate changes of 1 (no rate change), 2, 4 and 8, respectively. Further rate interpolation or decimation can be implemented in the PL."
   ]
  },
  {
   "cell_type": "markdown",
   "metadata": {},
   "source": [
    "### 1.6 RF-ADC Hierarchy <a class=\"anchor\" id=\"rfadc_hier\"></a>\n",
    "\n",
    "The architecture and hierarchy of the RF-ADCs and RF-DACs are key to the RFSoC design and as such will now be considered in more detail, begining with the RF-ADCs. \n",
    "\n",
    "**1.6.1 RF-ADC Tiles** <a class=\"anchor\" id=\"rfadc_tiles\"></a>\n",
    "\n",
    "RFSoC devices have either 8 or 16 RF-ADCs, grouped into tiles alongside mixers and decimators.\n",
    "\n",
    "There are two different tile configurations, shown in [Figure 6](#fig-6):\n",
    "\n",
    "- Dual RF-ADC tiles: 2x RF-ADCs, 2x mixers, 2x decimators\n",
    "- Quad RF-ADC tiles: 4x RF-ADCs, 4x mixers, 4x decimators"
   ]
  },
  {
   "cell_type": "markdown",
   "metadata": {},
   "source": [
    "<a class=\"anchor\" id=\"fig-6\"></a>\n",
    "<figure>\n",
    "<img src='./images/Simple_ADC_Tiles.png' height='50%' width='50%'/>\n",
    "    <figcaption><b>Figure 6: ADC Tile Configurations</b></figcaption>\n",
    "</figure>"
   ]
  },
  {
   "cell_type": "markdown",
   "metadata": {},
   "source": [
    "Each RF-ADC tile includes its own Phase Locked Loop (PLL) for managing the sampling clock applied to the RF-ADCs. \n",
    "\n",
    "The RFSoC's RF-ADCs comprise multiple interleaved sub-ADCs, all sampling at a lower rate. In combination, these can achieve a sampling rate of up to 5 Gsps."
   ]
  },
  {
   "cell_type": "markdown",
   "metadata": {},
   "source": [
    "**1.6.2 Dual RF-ADC Tile** <a class=\"anchor\" id=\"dual_rfadc_tiles\"></a>\n",
    "\n",
    "A dual RF-ADC tile supports two RF input channels, as can be seen in [Figure 7](#fig-7):"
   ]
  },
  {
   "cell_type": "markdown",
   "metadata": {},
   "source": [
    "<a class=\"anchor\" id=\"fig-7\"></a>\n",
    "<figure>\n",
    "<img src='./images/Dual_ADC_Tile.png' height='50%' width='50%'/>\n",
    "    <figcaption><b>Figure 7: Dual ADC Tile</b></figcaption>\n",
    "</figure>"
   ]
  },
  {
   "cell_type": "markdown",
   "metadata": {},
   "source": [
    "RF-ADCs can operate in two modes:\n",
    "\n",
    "- **Real-to-Complex**: An RF channel is input to the RF Data Converter as a real signal, and is thereafter mixed with the output of a complex Numerically Controlled Oscillator (NCO) to form a complex (I/Q) output. The upper and lower halves of the tile can each handle one input RF signal in this manner, and therefore the Dual RF-ADC tile can support two RF channels.\n",
    "\n",
    "\n",
    "- **Complex-to-Complex**: An RF channel is input to the RF Data Converter as a complex signal (I/Q), and is then mixed using a complex oscillator to form a complex output (also I/Q). In this configuration, both RF-ADCs are required - one for the analogue I input and another for the analogue Q output. Consequently, in this mode, a Dual RF-ADC tile can only support one RF channel.\n",
    "\n",
    "The user has a number of programmable options when operating Dual RF-ADC Tiles:\n",
    "\n",
    "- Operating mode (Real-to-Complex or Complex-to-Complex)\n",
    "\n",
    "\n",
    "- RF-ADC sampling frequency\n",
    "\n",
    "\n",
    "- Mixer mode (course or fine)\n",
    "\n",
    "\n",
    "- Mixer NCO frequency\n",
    "\n",
    "\n",
    "- Decimation ratio (1x, 2x, 4x, 8x) - note that 1x simply involves bypassing the decimator\n",
    "\n",
    "\n",
    "Signals are demodulated using the complex NCO and decimated using the integrated decimator. Both of the RF-ADCs within the tile share the same clocking infrastructure, enabling synchronous sampling."
   ]
  },
  {
   "cell_type": "markdown",
   "metadata": {},
   "source": [
    "**1.6.3 Quad RF-ADC Tile** <a class=\"anchor\" id=\"quad_rfadc_tiles\"></a>\n",
    "\n",
    "A Quad RF-ADC tile comprises four RF-ADCs, arranged in two pairs. This can be seen in [Figure 8](#fig-8)."
   ]
  },
  {
   "cell_type": "markdown",
   "metadata": {},
   "source": [
    "<a class=\"anchor\" id=\"fig-8\"></a>\n",
    "<figure>\n",
    "<img src='./images/Quad_ADC_Tile.png' height='50%' width='50%'/>\n",
    "    <figcaption><b>Figure 8: Quad ADC Tile</b></figcaption>\n",
    "</figure>"
   ]
  },
  {
   "cell_type": "markdown",
   "metadata": {},
   "source": [
    "A quad RF-ADC tile is equivalent to two Dual RF-ADC tiles. One advantage that it has over the Dual RF-ADC is its ability to support multiple bands (i.e. spectrally separated signals). The Quad can support up to four bands, the Dual, two.\n",
    "\n",
    "Multiple bands can be received simultaneously by routing the sampled RF input signal to more than one different mixing and decimation stage within the tile. As there are two mixers and two decimators with the Dual RF-ADC it can support two bands simultaneously, whereas the Quad RF-ADC can support up to four bands using four mixers and four decimators."
   ]
  },
  {
   "cell_type": "markdown",
   "metadata": {},
   "source": [
    "**1.6.4 DDC: Digital I/Q Mixer** <a class=\"anchor\" id=\"ddc\"></a>\n",
    "\n",
    "The digital I/Q mixer multiplies the incoming signal with sine and cosine waves, generated by an NCO. This has the effect of shifting the input signal up or down in frequency. This works to demodulate the received signal, shifting it to a baseband frequency. \n",
    "\n",
    "Learn more about modulation and demodulation from this [notebook](./Modulation_Demodulation.ipynb)."
   ]
  },
  {
   "cell_type": "markdown",
   "metadata": {},
   "source": [
    "**1.6.5 I/Q Mixer Modes** <a class=\"anchor\" id=\"IQ_mixer\"></a>\n",
    "\n",
    "The I/Q Mixer can operate in 3 modes: **Coarse**, **Fine** and **Bypass**. The RFSoC I/Q Mixer circuitry can be seen in [Figure 9](#fig-9)."
   ]
  },
  {
   "cell_type": "markdown",
   "metadata": {},
   "source": [
    "<a class=\"anchor\" id=\"fig-9\"></a>\n",
    "<figure>\n",
    "<img src='./images/IQ_mixer.png' height='50%' width='50%'/>\n",
    "    <figcaption><b>Figure 9: Overview of I/Q Mixer circuitry showing 3 oeprating modes</b></figcaption>\n",
    "</figure>"
   ]
  },
  {
   "cell_type": "markdown",
   "metadata": {},
   "source": [
    "The **Coarse Mixer** component implements both the **Coarse** mode and the **Bypass** mode.\n",
    "\n",
    "- In **Coarse** mode, the mixer is able to demodulate using only a very restricted set of frequencies, however it is able to operate in this mode with lower power than in Fine mode. This is because sine and cosine waves at these frequencies comprise a very limited set of samples.\n",
    "\n",
    "\n",
    "- In **Bypass** mode, the signal path simply bypasses the I/Q mixing stage, via the coarse stage, and does not undergo any modulation/demodulation.\n",
    "\n",
    "Frequencies of $\\frac{f_{s}}{4}$ and $-\\frac{f_{s}}{4}$ are useful for modulating/demodulating to a quarter of the sampling frequency with absolutely minimal cost. The NCO must generate only four samples per sine wave cycle: 0, +1, 0, -1. It is trivial to store these values and to multiply another signal by them for modulation/demodulating. \n",
    "\n",
    "Multiplying by 0, +1 and -1 is trivial, and therefore the modulator or demodulator architecture can be simplified to a counter and some simple combinatorial logic, as shown in [Figure 10](#fig-10)."
   ]
  },
  {
   "cell_type": "markdown",
   "metadata": {},
   "source": [
    "<a class=\"anchor\" id=\"fig-10\"></a>\n",
    "<figure>\n",
    "<img src='./images/course_IQ.png' height='25%' width='25%'/>\n",
    "    <figcaption><b>Figure 10: Course I/Q Mixer implemented using a counter and combinatorial logic</b></figcaption>\n",
    "</figure>"
   ]
  },
  {
   "cell_type": "markdown",
   "metadata": {},
   "source": [
    "This same principle can be implemented to demodulate with $\\frac{f_{s}}{2}$ as well."
   ]
  },
  {
   "cell_type": "markdown",
   "metadata": {},
   "source": [
    "The **Fine Mixer** component implements **Fine** mode. This can be seen in [Figure 11](#fig-11).\n",
    "\n",
    "- In **Fine** mode, the mixer uses an NCO, which can generate any arbitrary frequency between $-\\frac{f_{s}}{2}$ and $\\frac{f_{s}}{2}$. This is done by setting a step size input to the phase accumulator (automatically calculated in the design tools), the lookup table size and the desired frequency. Optional additional parameters can be set, including a phase adjustment and added dithering."
   ]
  },
  {
   "cell_type": "markdown",
   "metadata": {},
   "source": [
    "<a class=\"anchor\" id=\"fig-11\"></a>\n",
    "<figure>\n",
    "<img src='./images/fine_mixer.png' height='50%' width='50%'/>\n",
    "    <figcaption><b>Figure 11: Fine Mixer Circuitry</b></figcaption>\n",
    "</figure>"
   ]
  },
  {
   "cell_type": "markdown",
   "metadata": {},
   "source": [
    "**1.6.6 DDC: Programmable Decimator** <a class=\"anchor\" id=\"prog_decimator\"></a>\n",
    "\n",
    "The decimator can perform rate reduction by a factor of: 1x, 2x, 4x, or 8x.\n",
    "\n",
    "Decimation is achieved by a set of half-band filters: FIR0, FIR1, and FIR2. These low pass filters each decimate by a factor of 2, and are cascaded together to form  the selection of outputs shown in [Figure 12](#fig-12):"
   ]
  },
  {
   "cell_type": "markdown",
   "metadata": {},
   "source": [
    "<a class=\"anchor\" id=\"fig-12\"></a>\n",
    "<figure>\n",
    "<img src='./images/ProgrammableDecimator.png' height='50%' width='50%'/>\n",
    "    <figcaption><b>Figure 12: Programmable Decimator</b></figcaption>\n",
    "</figure>"
   ]
  },
  {
   "cell_type": "markdown",
   "metadata": {},
   "source": [
    "**1.6.7 Active Gain Control** <a class=\"anchor\" id=\"agc\"></a>\n",
    "       \n",
    "Active Gain Control (AGC) is an adaptive method for adjusting the gain applied to the input signal of an ADC, in order to scale the voltage to match the full scale of the ADC.\n",
    "\n",
    "In RFSoC, the AGC algorithm is user-designed in the PL, and controls an external Variable Gain Amplifier (VGA). An input signal can be amplified to fit the range of the ADC or attenuated if the input signal is too large.\n",
    "\n",
    "The inputs to the AGC algorithm are control signals generated by the RF-ADC block, which indicate when the input signal level exceeds amplitude thresholds. The algorithm should then compute the neccessary gain digitally and send a control signal to the VGA to adjust its level."
   ]
  },
  {
   "cell_type": "markdown",
   "metadata": {},
   "source": [
    "### 1.7 RF-DAC Hierarchy <a class=\"anchor\" id=\"rfdac_hier\"></a>\n",
    "\n",
    "The RF-DACs are grouped in a similar fashion to RF-ADCs. The main difference is that RF-DACs are available only in Quad tiles, i.e. there are always four RF-DAC blocks per tile. The components available in an Rf-DAC Quad Core Tile can be seen in [Figure 13](#fig-13)"
   ]
  },
  {
   "cell_type": "markdown",
   "metadata": {},
   "source": [
    "<a class=\"anchor\" id=\"fig-13\"></a>\n",
    "<figure>\n",
    "<img src='./images/Simple_DAC_Tiles.png' height='25%' width='25%'/>\n",
    "    <figcaption><b>Figure 13: DAC Tile Configuration, Only Available as Quad Tiles</b></figcaption>\n",
    "</figure>"
   ]
  },
  {
   "cell_type": "markdown",
   "metadata": {},
   "source": [
    "RF-DAC blocks can be configured individually, to produce real output signals, or as a pair, to produce complex output signals.\n",
    "\n",
    "Each RF-DAC block contains a programmable interpolator, an I/Q mixer, and the RF-DAC data converter. \n",
    "\n",
    "**1.7.1 RF-DAC Programmable Interpolator** <a class=\"anchor\" id=\"rfdac_interp\"></a>\n",
    "\n",
    "The programmable interpolator supports ratios of 1x, 2x, 4x, and 8x. An interpolation by 1 means that the filters are bypassed.\n",
    "\n",
    "The programmable interpolators are composed of three halfband filters, FIR0, FIR1 and FIR2. The path taken through the filters depends on the chosen interpolation ratios. This structure is very similar to that used in the RF-ADC's programmable decimator, but notice that the order of the filters differs. The specification of the individual filters is the same as in the RF-ADC. The RF-DAC interpolator can be seen in [Figure 14](#fig-14)."
   ]
  },
  {
   "cell_type": "markdown",
   "metadata": {},
   "source": [
    "<a class=\"anchor\" id=\"fig-14\"></a>\n",
    "<figure>\n",
    "<img src='./images/ProgrammableInterp.png' height='50%' width='50%'/>\n",
    "    <figcaption><b>Figure 14: RF-DAC Programmable Interpolator</b></figcaption>\n",
    "</figure>"
   ]
  },
  {
   "cell_type": "markdown",
   "metadata": {},
   "source": [
    "## 1.8 SD-FEC Blocks <a class=\"anchor\" id=\"sd_fec\"></a>\n",
    "\n",
    "FEC coding and decoding are computationally intensive processes, particularly for the codes adopted in 4G and 5G radio systems. The Soft Decision (SD)-FEC core in the RFSoC supports the following modes of operation:\n",
    "\n",
    "- Low Density Parity Check (**LDPC**) coding\n",
    "\n",
    "\n",
    "- **LDPC** decoding\n",
    "\n",
    "\n",
    "- **Turbo** decoding\n",
    "\n",
    "Both LDPC and Turbo codes are high performance coding schemes that have been adopted in modern communication standards. Turbo codes are used in 3G and 4G Long Term Evolution (LTE). LDPC codes are used in 5G, providing even better error correction performance.\n",
    "\n",
    "Selected RFSoC chips provide 8 hard SD-FEC cores. Soft SD-FEC cores can also be implemented in the PL if desired.\n",
    "\n",
    "Learn more about SD-FEC from this [notebook](https://github.com/Xilinx/PYNQ_RFSOC_Workshop/blob/master/notebooks/03_pynq_and_sd_fec.ipynb)."
   ]
  },
  {
   "cell_type": "markdown",
   "metadata": {},
   "source": [
    "## 1.9 Conclusion <a class=\"anchor\" id=\"conclusion\"></a>\n",
    "\n",
    "This notebook has provided an overview of the hardware blocks which comprise the RFSoC. We have explored a high level overview of the full system as well as the PS and PL of the RFSoC before taking a closer look at each block.\n",
    "\n",
    "You should now be aware of:\n",
    "\n",
    "- **High Level Overview** - the RFSoC is comprised of Programmable Logic, a Processing System and several special blocks, including Transmit, Receive and SD-FEC blocks\n",
    "- **Notable Features** - High Sampling Rate, Single Chip Solution, Multiple Channels\n",
    "- **PS Architecture** - Acts as the 'brain' of the RFSoC. Contains: allows for external interfaces, security functions and memory control\n",
    "- **PL Architecture** - Equivalent to an FPGA. Contains: high speed wired interfaces, Configurable Logic Blocks, DSP Slices, Block RAM, Ultra RAM.\n",
    "- **Data Converters** - RFSoC is special due to inbuilt RF-ADC bad RF-DAC Data Converters.\n",
    "- **RF-ADC Hierarchy** - Arranged in Dual or Quad tiles. DDC allows for decimation and a digital I/Q mixer with multiple modes. Active Gain Control is also available\n",
    "- **RF-DAC Hierarchy** - Arranged in Quad Tiles. Programmable Interpolators and Digital I/Q mixer available. \n",
    "- **SD-FEC Blocks** - Supports LDPC coding and decoding as well as turbo decoding"
   ]
  },
  {
   "cell_type": "markdown",
   "metadata": {},
   "source": [
    "[⬅️ Previous Notebook](01_introduction.ipynb) | | [Next Notebook ➡️](03_rfsoc_for_sdr.ipynb)\n",
    "\n",
    "----\n",
    "----"
   ]
  }
 ],
 "metadata": {
  "kernelspec": {
   "display_name": "Python 3",
   "language": "python",
   "name": "python3"
  },
  "language_info": {
   "codemirror_mode": {
    "name": "ipython",
    "version": 3
   },
   "file_extension": ".py",
   "mimetype": "text/x-python",
   "name": "python",
   "nbconvert_exporter": "python",
   "pygments_lexer": "ipython3",
   "version": "3.6.5"
  }
 },
 "nbformat": 4,
 "nbformat_minor": 4
}
