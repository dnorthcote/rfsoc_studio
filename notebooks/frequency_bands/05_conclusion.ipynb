{
 "cells": [
  {
   "cell_type": "markdown",
   "metadata": {},
   "source": [
    "<img src=\"images/strathclyde_banner.png\" width=\"50%\" align=\"left\" style=\"left\">"
   ]
  },
  {
   "cell_type": "markdown",
   "metadata": {},
   "source": [
    "# 5. Conclusion\n",
    "\n"
   ]
  },
  {
   "cell_type": "markdown",
   "metadata": {},
   "source": [
    "Through this notebook series we have explored the radio frequency spectrum, introducing Nyquist Zones before exploring common frequencies within these zones. Additionally, transmission safety been introduced, which should be a key conecrn for any user transmitting in the RF band. "
   ]
  },
  {
   "cell_type": "markdown",
   "metadata": {},
   "source": [
    "**Takeaways from this notebook series:**\n",
    "\n",
    "- **Nyquist Zones** - familiarity with the concepts of Nyquist sampling rates, aliasing and Nyquist Zones. How aliasing can be used beneficially to observe and work with frequencies which otehrwise would be beyond the sampling rate of a device.\n",
    "- **RF Spectrum** - comfort with common frequencies within each Nyquist band with respect to the RFSoC, where $f_{s}$ = 4.096 GHz.\n",
    "- **Transmission Safety** - understanding of the differnce between licensed and unlicensed frequency bands, important frequencies within each category and how these differ between regions. Awareness of the shared spectrum and how this can benefit a user. Environmental concerns which should be kept in mind when transmitting.  "
   ]
  },
  {
   "cell_type": "markdown",
   "metadata": {},
   "source": [
    "Upon completing this notebook series it may be worthwhile to return to the [Spectrum Analyser](./Spectrum Analyser.ipynb) and explore the investigated Nyquist Zones and frequency bands. "
   ]
  },
  {
   "cell_type": "markdown",
   "metadata": {},
   "source": [
    "[⬅️ Previous Notebook]((04_transmission_safety.ipynb)) | | [Return Home ➡️](strath-sdr/RFSoC Studio Hub.ipynb)\n",
    "\n",
    "----\n",
    "----"
   ]
  }
 ],
 "metadata": {
  "kernelspec": {
   "display_name": "Python 3",
   "language": "python",
   "name": "python3"
  },
  "language_info": {
   "codemirror_mode": {
    "name": "ipython",
    "version": 3
   },
   "file_extension": ".py",
   "mimetype": "text/x-python",
   "name": "python",
   "nbconvert_exporter": "python",
   "pygments_lexer": "ipython3",
   "version": "3.6.5"
  }
 },
 "nbformat": 4,
 "nbformat_minor": 4
}
