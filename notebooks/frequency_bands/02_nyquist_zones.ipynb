{
 "cells": [
  {
   "cell_type": "markdown",
   "metadata": {},
   "source": [
    "<img src=\"images/strathclyde_banner.png\" width=\"50%\" align=\"left\" style=\"left\">"
   ]
  },
  {
   "cell_type": "markdown",
   "metadata": {},
   "source": [
    "# 2. Nyquist Zones\n",
    "\n",
    "This notebook will introduce the concept of Nyquist Zones, a key concept in RF transmission. Nyquist Zones define regions of the frequency spectrum in relation to the sampling rate, by exploiting aliasing frequencies above $\\frac{f_{s}}{2}$ may be observed. This will be covered in stages, first exploring the Nyquist Sampling Rate, then Aliasing before linking these ideas to explain Nyquest Zones. "
   ]
  },
  {
   "cell_type": "markdown",
   "metadata": {},
   "source": [
    "## Table of Contents\n",
    "\n",
    "* [2. Nyquist Zones](02_nyquist_zones.ipynb)\n",
    "    * [2.1 Nyquist Sampling Rate](#sampling_rate)\n",
    "    * [2.2 Aliasing](#aliasing)\n",
    "    * [2.3 Nyquist Zones](#nyquist_zones)\n",
    "    * [2.4 Conclusion](#conclusion)"
   ]
  },
  {
   "cell_type": "markdown",
   "metadata": {},
   "source": [
    "## 2.1 Nyquist Sampling Rate <a class=\"anchor\" id=\"sampling_rate\"></a>\n",
    "\n",
    "If a baseband, bandlimited signal is composed of sine waves up to a frequency $f_{b}$ Hz, then the Nyquist Frequency is:\n",
    "\n",
    "$$ f_{n} = 2f_{b}$$\n",
    "\n",
    "If we require to sample this signal and retain all information, then the sampling rate, $f_{s}$, must be chosen as:\n",
    "\n",
    "$$f_{s} > f_{n} = f_{s} > 2f_{b}$$\n",
    "\n",
    "This frequency is often referred to as the Nyquist sampling rate, (distinct from the Nyquist frequency!)."
   ]
  },
  {
   "cell_type": "markdown",
   "metadata": {},
   "source": [
    "## 2.2 Aliasing <a class=\"anchor\" id=\"aliasing\"></a>\n",
    "\n",
    "When a (baseband) signal is sampled at a frequency *below* the Nyquist rate, then we \"lose\" the signal frequency information and aliasing is said to have occurred. Aliasing can be illustrated by sampling a sine wave below the Nyquist rate and then \"reconstructing\". We note that it appears as a sine wave of *lower* frequency."
   ]
  },
  {
   "cell_type": "markdown",
   "metadata": {},
   "source": [
    "First we import the required libraries, numPy for computation and MatplotLib for Matlab-like plotting. We will also be using two user defined functions to assist in plotting."
   ]
  },
  {
   "cell_type": "code",
   "execution_count": 1,
   "metadata": {},
   "outputs": [],
   "source": [
    "import numpy as np\n",
    "import matplotlib.pyplot as plt"
   ]
  },
  {
   "cell_type": "markdown",
   "metadata": {},
   "source": [
    "We then define the frequency of our system and the basic parameters. We choose $f_{s}$ is chosen as 1024 Hz, and we will be observing what happens when we sample a signal with a frequency above $\\frac{f_{s}}{2}$."
   ]
  },
  {
   "cell_type": "code",
   "execution_count": 2,
   "metadata": {},
   "outputs": [],
   "source": [
    "# Set basic params\n",
    "fs = 1024 # sample rate\n",
    "N_fft = 512 # fft size\n",
    "\n",
    "t = np.arange(N_fft)/fs #time scale"
   ]
  },
  {
   "cell_type": "markdown",
   "metadata": {},
   "source": [
    "Here we define three signals, each composed of 3 sine waves:\n",
    "\n",
    "$$w(t) = 100\\sin(2 \\pi 100 t) + 50\\sin(2 \\pi 250 t) + 25\\sin(2 \\pi 400 t)$$\n",
    "\n",
    "$$x(t) = 100\\sin(2 \\pi 900 t) + 50\\sin(2 \\pi 750 t) + 25\\sin(2 \\pi 600 t)$$\n",
    "\n",
    "$$y(t) = 100\\sin(2 \\pi 1100 t) + 50\\sin(2 \\pi 1250 t) + 25\\sin(2 \\pi 1400 t)$$"
   ]
  },
  {
   "cell_type": "code",
   "execution_count": 3,
   "metadata": {},
   "outputs": [],
   "source": [
    "# Define 3 signals\n",
    "w = 100*np.sin(2*np.pi*100*t) + 50*np.sin(2*np.pi*250*t) + 25*np.sin(2*np.pi*400*t)\n",
    "x = 100*np.sin(2*np.pi*900*t) + 50*np.sin(2*np.pi*750*t) + 25*np.sin(2*np.pi*600*t)\n",
    "y = 100*np.sin(2*np.pi*1100*t) + 50*np.sin(2*np.pi*1250*t) + 25*np.sin(2*np.pi*1400*t)"
   ]
  },
  {
   "cell_type": "code",
   "execution_count": 4,
   "metadata": {},
   "outputs": [],
   "source": [
    "# Calculate FFT for each signal\n",
    "w_fft_result = np.fft.fft(w, N_fft)\n",
    "x_fft_result = np.fft.fft(w, N_fft)\n",
    "y_fft_result = np.fft.fft(w, N_fft)\n",
    "\n",
    "# Get the corresponding frequencies, that depend on N_fft and Fs\n",
    "freqs = np.fft.fftfreq(N_fft,1/fs)"
   ]
  },
  {
   "cell_type": "markdown",
   "metadata": {},
   "source": [
    "By plotting the FFTs of these signals sampled at 1000 Hz we can see the effects of aliasing - all three signals have been aliased, to 100, 250 and 400 Hz components respectively. Clearly if a signal has frequency components greater than $\\frac{f_{s}}{2}$ then aliasing will occur, manifesting as a distortion of a signal. \n",
    "\n",
    "From a knowledge of $f_{s}$ and the input frequencies it is straightforward to establish the frequency of the aliased components for any given components above $\\frac{f_{s}}{2}$. The reconstructed signal has a frequency of:\n",
    "\n",
    "$$f_{s} - f_{signal} = f_{reconstructed}$$"
   ]
  },
  {
   "cell_type": "code",
   "execution_count": 5,
   "metadata": {},
   "outputs": [
    {
     "data": {
      "image/png": "[encoded data removed]",
      "text/plain": [
       "<matplotlib.figure.Figure at 0x7f92013668>"
      ]
     },
     "metadata": {},
     "output_type": "display_data"
    }
   ],
   "source": [
    "fig, axs = plt.subplots(1,3, figsize=(15,4))\n",
    "axs[0].plot(freqs[:int(N_fft/2)], np.abs(w_fft_result[:int(N_fft/2)]))\n",
    "axs[0].set_title('Correctly Sampled Signal, w(t)')\n",
    "axs[0].set_ylabel('Magnitude')\n",
    "axs[0].set_xlabel('Frequency, Hz')\n",
    "fig.tight_layout()\n",
    "\n",
    "axs[1].plot(freqs[:int(N_fft/2)], np.abs(x_fft_result[:int(N_fft/2)]))\n",
    "axs[1].set_title('Aliased Signal, x(t)')\n",
    "axs[1].set_ylabel('Magnitude')\n",
    "axs[1].set_xlabel('Frequency, Hz')\n",
    "fig.tight_layout()\n",
    "\n",
    "axs[2].plot(freqs[:int(N_fft/2)], np.abs(y_fft_result[:int(N_fft/2)]))\n",
    "axs[2].set_title('Aliased Signal, y(t)')\n",
    "axs[2].set_ylabel('Magnitude')\n",
    "axs[2].set_xlabel('Frequency, Hz')\n",
    "fig.tight_layout()"
   ]
  },
  {
   "cell_type": "markdown",
   "metadata": {},
   "source": [
    "In our example, we sampled three signals each at 1000 Hz. If we sample a sum of a few sine waves, *w(t)*, at 1000 Hz we adhere to the Nyquist criteria. In [Figure 1](#fig-1), we represent the signal to be sampled as a simple (sine wave amplitude) spectrum:"
   ]
  },
  {
   "cell_type": "markdown",
   "metadata": {},
   "source": [
    "<a class=\"anchor\" id=\"fig-1\"></a>\n",
    "<figure>\n",
    "<img src='./images/Aliasing_w.png' height='30%' width='30%'/>\n",
    "    <figcaption><b>Figure 1: Correctly Sampled Signal, w(t)</b></figcaption>\n",
    "</figure>"
   ]
  },
  {
   "cell_type": "markdown",
   "metadata": {},
   "source": [
    "Of course, if we had sampled the signal, *x(t)* (i.e. sine waves at 900 Hz, 750 Hz and 600 Hz) at 1000 Hz, then because the Nyquist criteria is not met, all of these sine waves will alias respectively to 100, 250 and 400 Hz components. This can be seen in [Figure 2](#fig-2):"
   ]
  },
  {
   "cell_type": "markdown",
   "metadata": {},
   "source": [
    "<a class=\"anchor\" id=\"fig-2\"></a>\n",
    "<figure>\n",
    "<img src='./images/Aliasing_x.png' height='30%' width='30%'/>\n",
    "    <figcaption><b>Figure 2: Aliased Signal, x(t)</b></figcaption>\n",
    "</figure>"
   ]
  },
  {
   "cell_type": "markdown",
   "metadata": {},
   "source": [
    "Similarly, if we sampled the signal *y(t)* (i.e. sine waves at 1100 Hz, 1250 Hz and 1400 Hz) at 1000 Hz, then as the Nyquist criteria is not met, all of these sine waves will alias respectively to 100, 250 and 400 Hz components, shown in [Figure 3](#fig-3): "
   ]
  },
  {
   "cell_type": "markdown",
   "metadata": {},
   "source": [
    "<a class=\"anchor\" id=\"fig-3\"></a>\n",
    "<figure>\n",
    "<img src='./images/Aliasing_y.png' height='30%' width='30%'/>\n",
    "    <figcaption><b>Figure 3: Aliased Signal, y(t)</b></figcaption>\n",
    "</figure>"
   ]
  },
  {
   "cell_type": "markdown",
   "metadata": {},
   "source": [
    "We can then note a pattern of spectrum aliasing as shown below in [Figure 4](#fig-4):"
   ]
  },
  {
   "cell_type": "markdown",
   "metadata": {},
   "source": [
    "<a class=\"anchor\" id=\"fig-4\"></a>\n",
    "<figure>\n",
    "<img src='./images/spectrumPattern.png' height='30%' width='30%'/>\n",
    "    <figcaption><b>Figure 4: Pattern of Spectrum Aliasing</b></figcaption>\n",
    "</figure>"
   ]
  },
  {
   "cell_type": "markdown",
   "metadata": {},
   "source": [
    "Clearly the above system sampling at 1000 Hz would be best limited to only have input signals with frequencies below 500 Hz. However, **aliasing can be exploited**, such as in situations where we wish to demodulate a signal. If this signal is appropriately bandlimited, the output signal will alias to the same \"shape\" at baseband frequencies. This general process is called undersampling, and is applicable in software defined radio systems for the direct demodulation of received signals. "
   ]
  },
  {
   "cell_type": "markdown",
   "metadata": {},
   "source": [
    "## 2.3 Nyquist Zones <a class=\"anchor\" id=\"nyquist_zones\"></a>\n",
    "\n",
    "Noting the 'folding' of signal spectra that was observed in [Figure 4](#fig-4), around integer multiples of $\\frac{f_{s}}{2}$, we can define these regions of the frequency spectrum as **Nyquist Zones**. Shown in [Figure 5](#fig-5), if the signal was sampled at $f_{s}$, any signal components present at a 'red' frequency shown in the diagram would alias down to the corresponding 'blue' position in the baseband region."
   ]
  },
  {
   "cell_type": "markdown",
   "metadata": {},
   "source": [
    "<a class=\"anchor\" id=\"fig-5\"></a>\n",
    "<figure>\n",
    "<img src='./images/NyquistZones.png' height='50%' width='50%'/>\n",
    "    <figcaption><b>Figure 5: Overview of Nyquist Zones</b></figcaption>\n",
    "</figure>"
   ]
  },
  {
   "cell_type": "markdown",
   "metadata": {},
   "source": [
    "An analogue lowpass filter is needed to retain the frequencies in Nyquist Zone 1, and attenuate any components at higher frequencies that would otherwise alias into this region. Similarly, if we wanted to exploit aliasing from a higher Nyquist Zone, a suitable analogue bandpass filter would be required, to ensure that only the desired signal components alias into Nyquist Zone 1. \n",
    "\n",
    "For example, suppose that the signal of interest resides entirely in Nyquist Zone 5, and that unwanted signal components exist in Bands 4 and 6. To avoid the unwanted signal components also being aliased to the baseband region, and being superimposed onto the desired signal, a bandpass filter must be applied around Nyquist Zone 5 prior to sampling."
   ]
  },
  {
   "cell_type": "markdown",
   "metadata": {},
   "source": [
    "## 2.4 Conclusion <a class=\"anchor\" id=\"conclusion\"></a>\n",
    "\n",
    "Through this notebook we have explored Nyquist sampling rates and aliasing to understand Nyquist Zones. We have seen how a signal with frequencies above the Nyquist sampling rate will be aliased to baseband, and shown how this can be exploited to allow us to work with signals which would otherwise be beyond the capabilities of the system. The notebook ended by showing these Nyquist Zones, where the spectrum can be viewed as integer multiples of $\\frac{f_{s}}{2}$ to understand how a desired signal will be aliased."
   ]
  },
  {
   "cell_type": "markdown",
   "metadata": {},
   "source": [
    "[⬅️ Previous Notebook](01_introduction.ipynb) | | [Next Notebook ➡️](03_RF_spectrum.ipynb)\n",
    "\n",
    "----\n",
    "----"
   ]
  }
 ],
 "metadata": {
  "kernelspec": {
   "display_name": "Python 3",
   "language": "python",
   "name": "python3"
  },
  "language_info": {
   "codemirror_mode": {
    "name": "ipython",
    "version": 3
   },
   "file_extension": ".py",
   "mimetype": "text/x-python",
   "name": "python",
   "nbconvert_exporter": "python",
   "pygments_lexer": "ipython3",
   "version": "3.6.5"
  }
 },
 "nbformat": 4,
 "nbformat_minor": 4
}
