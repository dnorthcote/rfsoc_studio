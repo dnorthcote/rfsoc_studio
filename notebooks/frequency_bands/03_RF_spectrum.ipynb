{
 "cells": [
  {
   "cell_type": "markdown",
   "metadata": {},
   "source": [
    "<img src=\"images/strathclyde_banner.png\" width=\"50%\" align=\"left\" style=\"left\">"
   ]
  },
  {
   "cell_type": "markdown",
   "metadata": {},
   "source": [
    "# 3. The RF Spectrum\n",
    "\n",
    "This notebook will provide an overview of the RF Spectrum and common frequencies which a user should be aware of. This will be explored in the context of the RFSoC, with an assumed sampling rate of 4.096 GHz, meaning that Nyquist Zones will appear every 2 GHz."
   ]
  },
  {
   "cell_type": "markdown",
   "metadata": {},
   "source": [
    "## Table of Contents\n",
    "\n",
    "* [3. RF Spectrum](03_RF_spectrum.ipynb)\n",
    "    * [3.1 Spectrum Overview](#zone_one)\n",
    "    * [3.2 The 1st Nyquist Zone (0 to 2 GHz)](#zone_one)\n",
    "    * [3.3 The 2nd Nyquist Zone (2 to 4 GHz)](#zone_two)\n",
    "    * [3.4 The 3rd Nyquist Zone and Beyond](#zone_three)\n",
    "    * [3.5 Conclusion](#conclusion)"
   ]
  },
  {
   "cell_type": "markdown",
   "metadata": {},
   "source": [
    "## 3.1 Spectrum Overview <a class=\"anchor\" id=\"overview\"></a>\n",
    "\n",
    "Useable radio frequencies for communications start at the low kHz, with AM radio appearing around 600 kHz to 1800 kHz. FM radio then appears from around 88 MHz, and the useable RF communication spectrum is all of the way to 10's of GHz (so called mm waves noting the wavelength is indeed of millimetres in length). An overview of the frequency spectrum can be seen in [Figure 1](#fig-1)."
   ]
  },
  {
   "cell_type": "markdown",
   "metadata": {},
   "source": [
    "<a class=\"anchor\" id=\"fig-1\"></a>\n",
    "<figure>\n",
    "<img src='./images/SpectrumOverview.png' height='50%' width='50%'/>\n",
    "    <figcaption><b>Figure 1: Overview of Frequency Spectrum</b></figcaption>\n",
    "</figure>"
   ]
  },
  {
   "cell_type": "markdown",
   "metadata": {},
   "source": [
    "With modern ADCs capable of sampling at multiple GHz, the RF frequencies of many wireless bands can be directly digitised. For example, with 4 GHz sampling, signals in the 1st Nyquist Zone (i.e. 0 to 2 GHz) can be digitised in the conventional manner. With an RFSoC, signals in the 2nd Nyquist Zone can also be captured by exploiting aliasing, provided that an appropriate bandpass filter first removes any components present at other frequencies. Indeed, the 3rd Nyquist Zone and higher can also be used in the same way - provided that suitable analogue filtering is applied."
   ]
  },
  {
   "cell_type": "markdown",
   "metadata": {},
   "source": [
    "## 3.2 The 1st Nyquist Zone (0 to 2 GHz) <a class=\"anchor\" id=\"zone_one\"></a>\n",
    "\n",
    "Sampling signals in the **1st Nyquist Zone** (0 to 2 GHz) allows several common signal types to be captured, including: \n",
    "\n",
    "- GNSS navigation systems (several bands from 1.164 GHz to 1.610 GHz)\n",
    "\n",
    "\n",
    "- Broadcast television (~470 to 700 MHz)\n",
    "\n",
    "\n",
    "- IoT standards LoRa (867 - 869 MHz, 902 - 928 MHz) and NB-IoT (bands include 800 MHz and 1.8 GHz)\n",
    "\n",
    "\n",
    "- Several cellular bands (e.g. 800 MHz, 900 MHz, 1.4 GHz, 1.8 GHz in the UK)\n",
    "\n",
    "Common 1st Nyquist Zone frequencies can be observed in [Figure 2](#fig-2)."
   ]
  },
  {
   "cell_type": "markdown",
   "metadata": {},
   "source": [
    "<a class=\"anchor\" id=\"fig-2\"></a>\n",
    "<figure>\n",
    "<img src='./images/Nyquist_Zone_1.png' height='50%' width='50%'/>\n",
    "    <figcaption><b>Figure 2: Nyquist Zone 1</b></figcaption>\n",
    "</figure>"
   ]
  },
  {
   "cell_type": "markdown",
   "metadata": {},
   "source": [
    "## 3.3 The 2nd Nyquist Zone (2 GHz to 4 GHz) <a class=\"anchor\" id=\"zone_two\"></a>\n",
    "\n",
    "Extending to the **2nd Nyquist Zone** (2 GHz to 4 GHz), additional signal types can also be received, such as:\n",
    "\n",
    "- 2.4 GHz WiFi band (2.4 to 2.5 GHz)\n",
    "\n",
    "\n",
    "- Bluetooth (2.45 GHz)\n",
    "\n",
    "\n",
    "- Cellular bands (2.1 GHz, 2.3 GHz, 2.6 GHz)\n",
    "\n",
    "\n",
    "- Citizens Broadband Radio Service (CBRS) in the USA (3.55 GHz to 3.7 GHz)\n",
    "\n",
    "Common 2nd Nyquist Zone frequencies can be observed in [Figure 3](#fig-3)."
   ]
  },
  {
   "cell_type": "markdown",
   "metadata": {},
   "source": [
    "<a class=\"anchor\" id=\"fig-3\"></a>\n",
    "<figure>\n",
    "<img src='./images/Nyquist_Zone_2.png' height='50%' width='50%'/>\n",
    "    <figcaption><b>Figure 3: Nyquist Zone 2</b></figcaption>\n",
    "</figure>"
   ]
  },
  {
   "cell_type": "markdown",
   "metadata": {},
   "source": [
    "## 3.4 The 3rd Nyquist Zone and Beyond <a class=\"anchor\" id=\"zone_three\"></a>\n",
    "\n",
    "The **3rd Nyquist Zone** and beyond would bring further possibilities including:\n",
    "\n",
    "- 5GHz WiFi band (5.15 to 5.725 GHz)\n",
    "\n",
    "- 5G mmWave\n",
    "\n",
    "Common 3rd Nyquist Zone and above frequencies can be observed in [Figure 4](#fig-4)."
   ]
  },
  {
   "cell_type": "markdown",
   "metadata": {},
   "source": [
    "<a class=\"anchor\" id=\"fig-4\"></a>\n",
    "<figure>\n",
    "<img src='./images/Nyquist_Zone_3.png' height='30%' width='30%'/>\n",
    "    <figcaption><b>Figure 4: Nyquist Zone 3</b></figcaption>\n",
    "</figure>"
   ]
  },
  {
   "cell_type": "markdown",
   "metadata": {},
   "source": [
    "Usually, larger bandwidths are available in higher frequency bands, and therefore high data rate services favour high RF frequencies. This is balanced against the disadvantage of increased path loss at higher frequencies. Therefore, there is a move towards three different bands for 5G, each catering to a different point in the trade-off between range (coverage) and available data rate: 700 MHz, 3.5 GHz and 26 - 32 GHz mmWave."
   ]
  },
  {
   "cell_type": "markdown",
   "metadata": {},
   "source": [
    "## 3.5 Conclusion <a class=\"anchor\" id=\"conclusion\"></a>\n",
    "\n",
    "Through this notebook we have seen common RF bands. Many everyday technologies exist within this band, including broadcast television, WiFi and cellular bands."
   ]
  },
  {
   "cell_type": "markdown",
   "metadata": {},
   "source": [
    "[⬅️ Previous Notebook](02_nyquist_zones.ipynb) | | [Next Notebook ➡️](04_transmission_safety.ipynb)\n",
    "\n",
    "----\n",
    "----"
   ]
  }
 ],
 "metadata": {
  "kernelspec": {
   "display_name": "Python 3",
   "language": "python",
   "name": "python3"
  },
  "language_info": {
   "codemirror_mode": {
    "name": "ipython",
    "version": 3
   },
   "file_extension": ".py",
   "mimetype": "text/x-python",
   "name": "python",
   "nbconvert_exporter": "python",
   "pygments_lexer": "ipython3",
   "version": "3.6.5"
  }
 },
 "nbformat": 4,
 "nbformat_minor": 4
}
