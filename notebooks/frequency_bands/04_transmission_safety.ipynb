{
 "cells": [
  {
   "cell_type": "markdown",
   "metadata": {},
   "source": [
    "<img src=\"images/strathclyde_banner.png\" width=\"50%\" align=\"left\" style=\"left\">"
   ]
  },
  {
   "cell_type": "markdown",
   "metadata": {},
   "source": [
    "# 4. Transmission Safety\n",
    "\n",
    "This notebook will explore spectrum licensing, giving a user an idea of the differences between licensed and license-exempt frequencies. Regions around the world will be explored to show how the differences in what the spectrum is used for in different locations, amd therefore highlighting that the available frequencies will differ depending on the user's location. At the end a small note will be made on environmental saftey concerns the user should be aware of before transmitting."
   ]
  },
  {
   "cell_type": "markdown",
   "metadata": {},
   "source": [
    "## Table of Contents\n",
    "\n",
    "* [4. Transmission Safety](04_transmission_safety.ipynb)\n",
    "    * [4.1 What Bands to Transmit Over?](#transmission_bands)\n",
    "    * [4.2 Regulators and Spectral Assignment](#spectral_assignment)\n",
    "    * [4.3 Licensed Spectrum](#licensed_spectrum)\n",
    "    * [4.4 Shared Spectrum](#shared_spectrum)\n",
    "    * [4.5 License-Exempt Spectrum](#license_exempt_spectrum)\n",
    "    * [4.6 Environmental Safety](#environmental_safety)\n",
    "    * [4.7 Conclusion](#conclusion)"
   ]
  },
  {
   "cell_type": "markdown",
   "metadata": {},
   "source": [
    "## 4.1 What Bands to Transmit Over? <a class=\"anchor\" id=\"transmission_bands\"></a>\n",
    "\n",
    "The frequency spectrum can be thought of as divided into three sections - the licensed spectrum, shared spectrum and license-exempt spectrum, shown in [Figure 1](#fig-1). It is of the utmost importance that a user is mindful of which band they fall into and especially that an unlicensed user transmits safely within the registered license-exempt spectrum."
   ]
  },
  {
   "cell_type": "markdown",
   "metadata": {},
   "source": [
    "<a class=\"anchor\" id=\"fig-1\"></a>\n",
    "<figure>\n",
    "<img src='./images/licensedSpectrum.png' height='50%' width='50%'/>\n",
    "    <figcaption><b>Figure 1: Overview of Spectrum Licensing</b></figcaption>\n",
    "</figure>"
   ]
  },
  {
   "cell_type": "markdown",
   "metadata": {},
   "source": [
    "## 4.2 Regulators and Spectral Assignment <a class=\"anchor\" id=\"spectral_assignment\"></a>\n",
    "\n",
    "Every country has its own national spectrum regulator (e.g. the Office of Communications ([Ofcom](https://www.ofcom.org.uk/home)) in the UK, and the Federal Communications Commission ([FCC](https://www.fcc.gov/)) in the USA, which oversees the classification of bands and the licensing of spectral resources to particular users within their jurisdiction. There can be large differences between frequency bands, for example in the UK there are currently no mobile phone service frequencies below 800 MHz, whereas in some countries in Eastern Europe, they operate down as low as the 400 MHz UHF band.\n",
    "\n",
    "However, these regulators do not have total control and must obey rules at an international level, as defined by the International Telecommunications Union ([ITU](https://www.itu.int)). This is in an attempt to harmonise bands where possible (particularly in areas where countries have borders). The ITU defines three regions:\n",
    "\n",
    "- **ITU Region 1**: Europe, Russia, Africa, and the Middle East.\n",
    "- **ITU Region 2**: Americas, and Greenland.\n",
    "- **ITU Region 3**: Australia, Indonesia, Japan, New Zealand, the South Pacific, Asia south of Siberia\n",
    "\n",
    "Each region has its own management body, such as the European Telecommunications Standards Institute (ETSI). The aim of such a body is to harmonise frequency bands so that equipment designed to work in one country will likely work in others; which helps bring costs down. An example of successful global harmonisation is WiFi (the IEEE 802.11 standard) which operates on the 2.4 GHz band. FM radio is also pretty standard across most countries, in the 88 MHz to 108 MHz band, and nearly all radio stations are spaced at least 200 KHz apart. When frequencies are harmonised, equipment designed to work in one country will likely work in others; which helps bring costs down. \n",
    "\n",
    "Each country has a Frequency Allocation Table (FAT) which shows the full allocation of the frequency spectrum. An example FAT for each region can be seen:\n",
    "\n",
    "[Region 1 - UK Frequency Allocation Table](http://static.ofcom.org.uk/static/spectrum/fat.html)\n",
    "\n",
    "[Region 2 - FCC Spectrum wall chart](https://www.ntia.doc.gov/files/ntia/publications/spectrum_wall_chart_aug2011.pdf)\n",
    "\n",
    "[Region 3 - Australian Radiofrequency Spectrum Plan](https://www.acma.gov.au/australian-radiofrequency-spectrum-plan)"
   ]
  },
  {
   "cell_type": "markdown",
   "metadata": {},
   "source": [
    "## 4.3 Licensed Spectrum <a class=\"anchor\" id=\"licensed_spectrum\"></a>\n",
    "\n",
    "The frequency spectrum is limited to a finite number of frequencies and if there are too many transmissions on any band at the same time, it would become impossible to successfully receive any signals due to interference. Therefore, government agencies, (for example Ofcom in the UK, FCC in the USA), are tasked with licensing the spectrum to specific users so that it is efficiently used. The majority of the spectrum is licensed to users such as television and radio broadcasters. Companies pay a licensing fee for the right to transmit on an assigned frequency within a certain area, ensuring nothing will interfere with their transmission.\n",
    "\n",
    "Some of the key license holders and available licenses are highlighted below.\n",
    "\n",
    "**Amateur radio** \n",
    "\n",
    "One of the easiest ways to gain access to the licensed spectrum is through an amateur radio license. This is a hobby service which uses designated frequencies for non-commercial communications. There are a large number of bands which are available to an amateur radio user:\n",
    "\n",
    "- 135.7 KHz to 146 MHz (ITU Region 1)\n",
    "- 135.7 KHz to 250 GHz (ITU Region 2)\n",
    "- 135.7 KHz to 1.3 GHz (ITU Region 3)\n",
    "\n",
    "However, the high frequency (HF) bands (3.5 to 28.7 MHz) are by far the most common for amateur radio, as this gives local and worldwide access at almost any time with the minimal interference.\n",
    "\n",
    "**Business radio**\n",
    "\n",
    "Business radio users are companies which utilise radio as a tool to support business operations, such as dispatching vehicles, coordinating workers or remotely controlling equipment. The available frequency bands for such companies vary depending on region. In the USA, the FCC makes several bands available between 25 MHz and 1.4 GHz. Whilst for the UK, Ofcom bands range from 77 MHz to 458 MHz.\n",
    "\n",
    "**Mobile and Broadcast Networks**\n",
    "\n",
    "As previously stated the majority of the spectrum is licensed by large mobile and broadcast companies. These frequencies are not available to the average user and care should be taken to avoid these frequencies.\n",
    "\n",
    "In the UK there are a total of 9 frequencies used for 2G, 3G, 4G and 5G services:\n",
    "\n",
    "800 MHz, 900 MHz, 1.4 GHz, 1.8 GHz, 2.1 GHz, 2.3 GHz, 2.6 GHz FDD, 2.6 GHz TDD and 3.4 GHz.\n",
    "\n",
    "In the USA:\n",
    "\n",
    "600 MHz, 700 MHz, 850 MHz, 1.7 GHz, 1.9 GHz, 2.1 GHz, 2.3 GHz, 2.5 GHz, 28 GHz, 39 GHz \n",
    "\n",
    "\n",
    "Additionally, it is common for large bands to be reserved for particular types of use, for example FM radio (88-108 MHz) and Digital Terrestrial Television (470-700 MHz UK). "
   ]
  },
  {
   "cell_type": "markdown",
   "metadata": {},
   "source": [
    "## 4.4 Shared Spectrum <a class=\"anchor\" id=\"shared_spectrum\"></a>\n",
    "\n",
    "If any FATs were to be observed it would appear that the frequency spectrum is at 'bursting point' - there are very few undefined areas of the spectrum and the license costs for those that are not yet allocated are expensive. Yet upon further inspection, large parts of the spectrum are actually underutilised or not in use at all. There can be a number of reasons for this, such as when transmitted signals fail to diffract around hills and buildings, when licensed spectrum is hoarded for future use or when a company does not see a strong enough 'business case' for them to operate in a particular area.\n",
    "\n",
    "Therefore, the spectrum shortage is actually caused by the static allocation policy not a physical shortage of available spectrum. To address this issue, Ofcom introduced the Shared Access License (SAL) in the UK in July 2019. This is a 'use it or lose it' scheme - if any licensed frequency bands were not in use or were planned to be used then this new license would allow localised access to these spectrum bands. This was driven from a desire to implement 4G and 5G mobile networks, using LTE technologies in these shared bands to result in increased throughput and efficiency. This license is currently available in four spectrum bands:\n",
    "\n",
    "- 1.8 GHz band (1781.7 to 1785 MHz, 1876.7 to 1880 MHz)\n",
    "- 2.3 GHz band (2.39 to 2.4 GHz)\n",
    "- Entire 3.8 to 4.2 GHz band\n",
    "- 26 GHz band (24.25 to 26.5 GHz) - only available for indoor low power licenses\n",
    "\n",
    "In addition, Ofcom will now consider localised sharing requests for all other Major Network Operator (MNO) licensed bands, in locations they are not being utilised, through the Local Access License (LAL) framework. \n",
    "\n",
    "Similar schemes have been proposed by ETSI, with Licensed Shared Access on the 2.3 GHz band and in the USA with 3.5 GHz Citizens Broadband Radio Service (CBRS)."
   ]
  },
  {
   "cell_type": "markdown",
   "metadata": {},
   "source": [
    "## 4.5 License-Exempt Spectrum <a class=\"anchor\" id=\"license_exempt_spectrum\"></a>\n",
    "\n",
    "License exempt devices typically fall into one of two categories:\n",
    "\n",
    "- Short Range Devices (SRDs)\n",
    "- Industrial, Scientific and Medical (ISM) purposes, other than telecommunications. This includes, for example, microwave ovens and medical diathermy machines.\n",
    "\n",
    "SRDs are by far the most common use of the license-exempt spectrum, encompassing commercial and hobby use. Typical SRD applications include:\n",
    "\n",
    "- Wideband data transmission: RLAN, WiFi, White Space Devices, Wideband Low Activity Mode (WLAM) and short range video\n",
    "- RFID, medical implants, health monitoring, personal identification, inductive systems, proximity sensors\n",
    "- Car door keys, transport and traffic telematics, road tolling, intelligent transportation systems, automatic meter reading, street lamp monitoring and control, railway applications, car immobilisers\n",
    "- Logistics, livestock, electronic surveillance\n",
    "- Radiodetermination: Automotive Short Range Sensor, RF level gauges, radar sensor, level probing radar\n",
    "- Near field communication (NFC) and voice transmission: walkie-talkie, baby monitors, remote control, radio microphone, cordless telephones, hearing aids\n",
    "- Telemetry, tracking, tracing and data acquisition, machine to machine control, home automation, automotive industry, sensor monitoring\n",
    "- Car alarms, anti-theft alarms\n",
    "\n",
    "The unlicensed spectrum is divided into ISM and non-ISM bands, however both are available for SDR use. There are a small number of common frequencies which a user should be particularly aware of:\n",
    "\n",
    "- **27 MHz**: For the USA, Citizens Band Radio (CBR) is available at the 27 MHz band. This is a short range radio service for both hobby and business use, designed for use without qualification and without causing interference. This band can be used for many common transmission applications such as baby monitoring, model vehicle control, and car alarms.\n",
    "\n",
    "\n",
    "- **315 MHz**: This band is unlicensed in Region 2 and Region 3.\n",
    "\n",
    "\n",
    "- **433 MHz**: Otherwise known as LPD433 (Low Power Devices), the 433 MHz band is a common license-exempt band in Region 1 and Region 3 territories, where it is often used for voice transmission, model control and remote keyless entry systems. *Note*: this is a licensed amateur radio band in Region 2 territories.\n",
    "\n",
    "\n",
    "- **868 MHz**: In Region 1 this band has been allocated for license free operation, most commonly for long-range communication between devices. \n",
    "\n",
    "\n",
    "- **915 MHz**: This band is unlicensed in Region 2 and Australia.\n",
    "\n",
    "\n",
    "- **2.4 GHz**: The WiFi band at 2.4 GHz is unlicensed worldwide and is likely the greatest achievement in frequency harmonization. A wide range of devices, commercial and amateur, access this band on a daily basis."
   ]
  },
  {
   "cell_type": "markdown",
   "metadata": {},
   "source": [
    "## 4.6 Environmental Safety <a class=\"anchor\" id=\"environmental_safety\"></a>\n",
    "\n",
    "When operating any RF transmitter, it is important to be considerate of health and safety concerns. In each region, spectrum users are regulated on transmission power and safe exposure to RF fields. For example, the FCC in America limits the transmission power of Amateur Radio Stations to 1500 W, with most using considerably below this maximum. Publications are available to assist with specific use cases.\n",
    "\n",
    "The transmission power of an RFSoC is far below levels necessary to cause concerns. Despite this, additional care must be taken to be aware of surroundings when transmitting, avoiding interference with sensitive equipment, for example, medical devices or older electronic pacemakers."
   ]
  },
  {
   "cell_type": "markdown",
   "metadata": {},
   "source": [
    "## 4.7 Conclusion <a class=\"anchor\" id=\"conclusion\"></a>\n",
    "\n",
    "This notebook has provided an overview of the licensed and license-exempt frequency bands which a user must be aware of when transmitting. It is of the utmost importance that a valid license is obtained before transmitting over an RF band, or ensuring that one of the highlighted license-exempt bands have been selected. We have also introduced the shared spectrum, a new scheme in the UK and select other regions which will allow a user to transmit over a frequency historically controlled by a major vendor, so long as that frequency is not in use in the user's area. Finally, we have highlighted a few envirnmental concerns a user should be aware of, however the RFSoC is of low enough power that this should not be a major concern."
   ]
  },
  {
   "cell_type": "markdown",
   "metadata": {},
   "source": [
    "[⬅️ Previous Notebook](03_RF_spectrum.ipynb) | | [Next Notebook ➡️](05_conclusion.ipynb)\n",
    "\n",
    "----\n",
    "----"
   ]
  }
 ],
 "metadata": {
  "kernelspec": {
   "display_name": "Python 3",
   "language": "python",
   "name": "python3"
  },
  "language_info": {
   "codemirror_mode": {
    "name": "ipython",
    "version": 3
   },
   "file_extension": ".py",
   "mimetype": "text/x-python",
   "name": "python",
   "nbconvert_exporter": "python",
   "pygments_lexer": "ipython3",
   "version": "3.6.5"
  }
 },
 "nbformat": 4,
 "nbformat_minor": 4
}
