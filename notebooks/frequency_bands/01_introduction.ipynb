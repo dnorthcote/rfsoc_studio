{
 "cells": [
  {
   "cell_type": "markdown",
   "metadata": {},
   "source": [
    "<img src=\"images/strathclyde_banner.png\" width=\"50%\" align=\"left\" style=\"left\">"
   ]
  },
  {
   "cell_type": "markdown",
   "metadata": {},
   "source": [
    "# Frequency Bands and Transmission Safety\n",
    "\n",
    "This series of notebooks will introduce the Radio Frequency (RF) band, showing the importance of this band through frequencies present in our everyday lives. This will be covered in several parts:\n",
    "\n",
    "- An introduction to the RF band and a review of an RF transmitter and receiver system.\n",
    "- An exploration of Nyquist Zones, first through Nyquist sampling rates before seeing how the exploitation of aliasing allows us to work with frequencies greater than $\\frac{f_{s}}{2}$.\n",
    "- An overview of the RF Spectrum, noting relevant frequencies in the 1st, 2nd, 3rd Nyquist Zones and beyond. \n",
    "- An introduction to tranmission safety, exploring which bands are safe to transmit on and which should be avoided. This notebook covers the licensed and license-exempt spectrum as well touching on environmental concerns which should be kept in mind when transmitting. "
   ]
  },
  {
   "cell_type": "markdown",
   "metadata": {},
   "source": [
    "## Table of Contents\n",
    "\n",
    "* [1. Introduction to the RF band](01_introduction.ipynb)\n",
    "* [2. Nyquist Zones](02_nyquist_zones.ipynb)\n",
    "* [3. RF Spectrum](03_RF_spectrum.ipynb)\n",
    "* [4. Transmission Safety](04_transmission_safety.ipynb)\n",
    "* [5. Conclusion](05_conclusion.ipynb)"
   ]
  },
  {
   "cell_type": "markdown",
   "metadata": {},
   "source": [
    "## 1. Introduction to the RF band\n",
    "\n",
    "Wireless communications via RF is now an essential part of life for many people. Whether it is wireless network access in offices, mobile basestation backhaul, consumers texting, using voice and video communications or social media, it is likely at some point that they will be communicating over various frequency bands using standards such as Bluetooth, WiFi, GSM, and LTE. \n",
    "\n",
    "These communications require RF transmitters and receivers to function. A standard transmitter and receiver setup can be seen in [Figure 1](#fig-1)."
   ]
  },
  {
   "cell_type": "markdown",
   "metadata": {},
   "source": [
    "<a class=\"anchor\" id=\"fig-1\"></a>\n",
    "<figure>\n",
    "<img src='./images/TransmitReceive.png' height='50%' width='50%'/>\n",
    "    <figcaption><b>Figure 1: Overview of an RF Transmitter and Receiver</b></figcaption>\n",
    "</figure>"
   ]
  },
  {
   "cell_type": "markdown",
   "metadata": {},
   "source": [
    "Such a system operates by modulating a low frequency baseband signal to a desired RF frequency at the transmitter side and by demodulating from the RF frequency back to the baseband signal at the receiver. More information on modulation and demodulation can be found at this [notebook](./Modulation_Demodulation.ipynb)."
   ]
  },
  {
   "cell_type": "markdown",
   "metadata": {},
   "source": [
    "[⬅️ Return Home](strath-sdr/RFSoC Studio Hub.ipynb) | | [Next Notebook ➡️](02_nyquist_zones.ipynb)\n",
    "\n",
    "----\n",
    "----"
   ]
  }
 ],
 "metadata": {
  "kernelspec": {
   "display_name": "Python 3",
   "language": "python",
   "name": "python3"
  },
  "language_info": {
   "codemirror_mode": {
    "name": "ipython",
    "version": 3
   },
   "file_extension": ".py",
   "mimetype": "text/x-python",
   "name": "python",
   "nbconvert_exporter": "python",
   "pygments_lexer": "ipython3",
   "version": "3.6.5"
  }
 },
 "nbformat": 4,
 "nbformat_minor": 4
}
